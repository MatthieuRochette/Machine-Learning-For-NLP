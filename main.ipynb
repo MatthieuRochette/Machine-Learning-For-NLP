{
 "cells": [
  {
   "cell_type": "markdown",
   "metadata": {},
   "source": [
    "# Machine Learning for NLP\n",
    "\n",
    "### 1. Parsing and saving the data"
   ]
  },
  {
   "cell_type": "code",
   "execution_count": null,
   "metadata": {},
   "outputs": [],
   "source": [
    "from src.dataset_parser import parse_data_to_csv\n",
    "\n",
    "raw_path = \"./original_data\"\n",
    "parsed_path = \"./parsed_data\"\n",
    "# parse_data_to_csv(raw_path, parsed_path) // DO NOT EXECUTE UNLESS PARSED DATA IS LOST, OR USE OTHER parsed_path"
   ]
  },
  {
   "cell_type": "markdown",
   "metadata": {},
   "source": [
    "### 2. Loading parsed "
   ]
  },
  {
   "cell_type": "code",
   "execution_count": null,
   "metadata": {},
   "outputs": [],
   "source": [
    "from sklearn.dummy import DummyClassifier\n",
    "\n",
    "from src.dataset import DataSet\n",
    "\n",
    "ds = DataSet(parsed_path)\n",
    "dummy_domain = DummyClassifier(strategy=\"most_frequent\")\n",
    "dummy_polarity = DummyClassifier(strategy=\"most_frequent\")\n",
    "dummy_rating_str = DummyClassifier(strategy=\"most_frequent\")"
   ]
  },
  {
   "cell_type": "code",
   "execution_count": null,
   "metadata": {},
   "outputs": [],
   "source": [
    "# print(ds.training, ds.training.dtypes)\n",
    "dummy_domain.fit(ds.training[\"review_text\"], ds.training[\"domain\"])\n",
    "dummy_polarity.fit(ds.training[\"review_text\"], ds.training[\"polarity\"])\n",
    "dummy_rating_str.fit(ds.training[\"review_text\"], ds.training[\"rating_str\"].astype(str))  # column seems to automatically reconvert to float if not forced in str"
   ]
  },
  {
   "cell_type": "code",
   "execution_count": null,
   "metadata": {},
   "outputs": [],
   "source": [
    "print(dummy_domain.predict(ds.testing[\"review_text\"]))\n",
    "print(dummy_polarity.predict(ds.testing[\"review_text\"]))\n",
    "print(dummy_rating_str.predict(ds.testing[\"review_text\"]))"
   ]
  },
  {
   "cell_type": "code",
   "execution_count": null,
   "metadata": {},
   "outputs": [],
   "source": [
    "print(dummy_domain.score(ds.testing[\"review_text\"], ds.testing[\"domain\"]))\n",
    "print(dummy_polarity.score(ds.testing[\"review_text\"], ds.testing[\"polarity\"]))\n",
    "print(dummy_rating_str.score(ds.testing[\"review_text\"], ds.testing[\"rating_str\"].astype(str)))"
   ]
  },
  {
   "cell_type": "code",
   "execution_count": null,
   "metadata": {},
   "outputs": [],
   "source": [
    "from copy import deepcopy\n",
    "from sklearn.feature_extraction.text import TfidfVectorizer\n",
    "\n",
    "base_vectorizer = TfidfVectorizer(lowercase=True, analyzer=\"word\", stop_words=\"english\")\n",
    "vectorizer = deepcopy(base_vectorizer)  # so we don't need to rewrite TfidfVectorizer instance initialisations later, thus only one place to change parameters for all\n",
    "X_training = vectorizer.fit_transform(ds.training[\"review_text\"])\n",
    "print(X_training.shape)\n",
    "print(vectorizer.get_params(), vectorizer.get_stop_words(), sep='\\n')\n",
    "X_testing = vectorizer.transform(ds.testing[\"review_text\"])\n",
    "print(X_testing.shape)\n",
    "print(X_testing)"
   ]
  },
  {
   "cell_type": "code",
   "execution_count": null,
   "metadata": {},
   "outputs": [],
   "source": [
    "from sklearn.linear_model import Perceptron\n",
    "\n",
    "perceptron = Perceptron()\n",
    "perceptron.fit(X_training, ds.training[\"polarity\"])\n",
    "perceptron.score(X_testing, ds.testing[\"polarity\"])"
   ]
  },
  {
   "cell_type": "code",
   "execution_count": null,
   "metadata": {},
   "outputs": [],
   "source": []
  }
 ],
 "metadata": {
  "interpreter": {
   "hash": "e99c606221478606e184a054e6047426ce52f9cc3eb14d6318f1ef08b00da85e"
  },
  "kernelspec": {
   "display_name": "Python 3.9.7 64-bit",
   "name": "python3"
  },
  "language_info": {
   "codemirror_mode": {
    "name": "ipython",
    "version": 3
   },
   "file_extension": ".py",
   "mimetype": "text/x-python",
   "name": "python",
   "nbconvert_exporter": "python",
   "pygments_lexer": "ipython3",
   "version": "3.9.7"
  },
  "orig_nbformat": 4
 },
 "nbformat": 4,
 "nbformat_minor": 2
}
