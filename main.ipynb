{
 "cells": [
  {
   "cell_type": "markdown",
   "metadata": {},
   "source": [
    "# Machine Learning for NLP\n",
    "*This project requires Python 3.9+*\n",
    "### 1. Parsing and saving the data"
   ]
  },
  {
   "cell_type": "code",
   "execution_count": 19,
   "metadata": {},
   "outputs": [],
   "source": [
    "from src.dataset_parser import parse_data_to_csv\n",
    "\n",
    "raw_path = \"./original_data\"\n",
    "parsed_path = \"./parsed_data\"\n",
    "# parse_data_to_csv(raw_path, parsed_path) // DO NOT EXECUTE UNLESS PARSED DATA IS LOST, OR USE OTHER parsed_path"
   ]
  },
  {
   "cell_type": "markdown",
   "metadata": {},
   "source": [
    "### 2. Loading parsed data & Dummy Classifier"
   ]
  },
  {
   "cell_type": "code",
   "execution_count": 20,
   "metadata": {},
   "outputs": [],
   "source": [
    "from sklearn.dummy import DummyClassifier\n",
    "\n",
    "from src.dataset import DataSet\n",
    "\n",
    "ds = DataSet(parsed_path)\n",
    "dummy_domain = DummyClassifier(strategy=\"most_frequent\")\n",
    "dummy_polarity = DummyClassifier(strategy=\"most_frequent\")\n",
    "dummy_rating_str = DummyClassifier(strategy=\"most_frequent\")"
   ]
  },
  {
   "cell_type": "markdown",
   "metadata": {},
   "source": [
    "#### Fitting Dummy classifier with training data"
   ]
  },
  {
   "cell_type": "code",
   "execution_count": 21,
   "metadata": {},
   "outputs": [
    {
     "data": {
      "text/plain": [
       "DummyClassifier(strategy='most_frequent')"
      ]
     },
     "execution_count": 21,
     "metadata": {},
     "output_type": "execute_result"
    }
   ],
   "source": [
    "# print(ds.training, ds.training.dtypes)\n",
    "dummy_domain.fit(ds.training[\"review_text\"], ds.training[\"domain\"])\n",
    "dummy_polarity.fit(ds.training[\"review_text\"], ds.training[\"polarity\"])\n",
    "dummy_rating_str.fit(ds.training[\"review_text\"], ds.training[\"rating_str\"].astype(str))  # column seems to automatically reconvert to float if not forced in str"
   ]
  },
  {
   "cell_type": "markdown",
   "metadata": {},
   "source": [
    "#### Predictions and scores with Dummy classifier"
   ]
  },
  {
   "cell_type": "code",
   "execution_count": 22,
   "metadata": {},
   "outputs": [
    {
     "name": "stdout",
     "output_type": "stream",
     "text": [
      "['books' 'books' 'books' ... 'books' 'books' 'books']\n",
      "['negative' 'negative' 'negative' ... 'negative' 'negative' 'negative']\n",
      "['5.0' '5.0' '5.0' ... '5.0' '5.0' '5.0']\n"
     ]
    }
   ],
   "source": [
    "print(dummy_domain.predict(ds.testing[\"review_text\"]))\n",
    "print(dummy_polarity.predict(ds.testing[\"review_text\"]))\n",
    "print(dummy_rating_str.predict(ds.testing[\"review_text\"]))"
   ]
  },
  {
   "cell_type": "code",
   "execution_count": 23,
   "metadata": {},
   "outputs": [
    {
     "name": "stdout",
     "output_type": "stream",
     "text": [
      "0.25\n",
      "0.491875\n",
      "0.355625\n"
     ]
    }
   ],
   "source": [
    "print(dummy_domain.score(ds.testing[\"review_text\"], ds.testing[\"domain\"]))\n",
    "print(dummy_polarity.score(ds.testing[\"review_text\"], ds.testing[\"polarity\"]))\n",
    "print(dummy_rating_str.score(ds.testing[\"review_text\"], ds.testing[\"rating_str\"].astype(str)))"
   ]
  },
  {
   "cell_type": "markdown",
   "metadata": {},
   "source": [
    "### 3. Example of Vectorizer"
   ]
  },
  {
   "cell_type": "code",
   "execution_count": 24,
   "metadata": {},
   "outputs": [
    {
     "name": "stdout",
     "output_type": "stream",
     "text": [
      "(6400, 35437)\n",
      "[[0. 0. 0. ... 0. 0. 0.]\n",
      " [0. 0. 0. ... 0. 0. 0.]\n",
      " [0. 0. 0. ... 0. 0. 0.]\n",
      " ...\n",
      " [0. 0. 0. ... 0. 0. 0.]\n",
      " [0. 0. 0. ... 0. 0. 0.]\n",
      " [0. 0. 0. ... 0. 0. 0.]]\n",
      "{'analyzer': 'word', 'binary': False, 'decode_error': 'strict', 'dtype': <class 'numpy.float64'>, 'encoding': 'utf-8', 'input': 'content', 'lowercase': True, 'max_df': 1.0, 'max_features': None, 'min_df': 1, 'ngram_range': (1, 1), 'norm': 'l2', 'preprocessor': None, 'smooth_idf': True, 'stop_words': 'english', 'strip_accents': None, 'sublinear_tf': False, 'token_pattern': '(?u)\\\\b\\\\w\\\\w+\\\\b', 'tokenizer': None, 'use_idf': True, 'vocabulary': None}\n",
      "frozenset({'everyone', 'side', 'anywhere', 'although', 'together', 'six', 'hundred', 'thence', 'therein', 'sometime', 'four', 'de', 'own', 'here', 'further', 'will', 'those', 'amount', 'should', 'top', 'amongst', 'third', 'front', 'thus', 'nowhere', 'fire', 'very', 'sixty', 'whence', 'behind', 'the', 'is', 'until', 'do', 'even', 'whereupon', 'why', 'each', 'nothing', 'interest', 'anyone', 'anything', 'yourself', 'cant', 'again', 'onto', 'next', 'my', 'myself', 'them', 'nobody', 'twenty', 'by', 'most', 'after', 'noone', 're', 'both', 'last', 'couldnt', 'everything', 'mill', 'under', 'becomes', 'per', 'he', 'anyhow', 'above', 'how', 'forty', 'moreover', 'if', 'first', 'same', 'ltd', 'into', 'sincere', 'have', 'hence', 'alone', 'am', 'part', 'than', 'on', 'been', 'cannot', 'already', 'go', 'himself', 'other', 'over', 'system', 'something', 'are', 'eg', 'mine', 'we', 'hers', 'that', 'detail', 'whereby', 'ie', 'made', 'a', 'these', 'indeed', 'not', 'ours', 'while', 'con', 'themselves', 'who', 'un', 'whom', 'take', 'me', 'becoming', 'at', 'seemed', 'meanwhile', 'cry', 'hereupon', 'which', 'nor', 'rather', 'around', 'never', 'once', 'eight', 'name', 'whether', 'might', 'anyway', 'between', 'latter', 'toward', 'be', 'bottom', 'off', 'his', 'it', 'its', 'become', 'before', 'least', 'of', 'since', 'enough', 'within', 'when', 'none', 'some', 'among', 'may', 'done', 'through', 'see', 'either', 'you', 'ourselves', 'etc', 'yours', 'because', 'whereas', 'thereupon', 'fifty', 'much', 'hereby', 'being', 'few', 'nevertheless', 'empty', 'find', 'herein', 'herself', 'move', 'due', 'put', 'seems', 'twelve', 'itself', 'latterly', 'amoungst', 'whenever', 'another', 'someone', 'without', 'now', 'via', 'show', 'too', 'there', 'more', 'with', 'in', 'whole', 'beyond', 'has', 'us', 'as', 'however', 'namely', 'from', 'all', 'somehow', 'everywhere', 'less', 'ten', 'though', 'thick', 'whoever', 'two', 'could', 'afterwards', 'hasnt', 'wherever', 'yourselves', 'mostly', 'well', 'describe', 'therefore', 'below', 'fill', 'but', 'upon', 'whither', 'seem', 'whose', 'almost', 'to', 'besides', 'about', 'were', 'towards', 'one', 'for', 'this', 'inc', 'formerly', 'i', 'fifteen', 'several', 'whereafter', 'thereafter', 'such', 'where', 'down', 'can', 'always', 'five', 'thin', 'full', 'out', 'serious', 'please', 'they', 'also', 'no', 'many', 'so', 'their', 'nine', 'else', 'sometimes', 'thru', 'him', 'any', 'yet', 'beforehand', 'keep', 'and', 'often', 'give', 'neither', 'our', 'an', 'whatever', 'every', 'across', 'then', 'get', 'against', 'hereafter', 'still', 'throughout', 'her', 'somewhere', 'only', 'others', 'along', 'eleven', 'otherwise', 'perhaps', 'three', 'she', 'was', 'bill', 'had', 'your', 'became', 'beside', 'seeming', 'wherein', 'during', 'must', 'except', 'or', 'call', 'ever', 'former', 'thereby', 'would', 'back', 'what', 'elsewhere', 'up', 'found', 'co'})\n",
      "(1600, 35437)\n",
      "  (0, 34913)\t0.19791249525651766\n",
      "  (0, 34889)\t0.10832519681572475\n",
      "  (0, 34226)\t0.08057117750538752\n",
      "  (0, 33921)\t0.45969345901255637\n",
      "  (0, 33920)\t0.10573082969170344\n",
      "  (0, 33090)\t0.06153905101792364\n",
      "  (0, 32963)\t0.057723804253992296\n",
      "  (0, 32723)\t0.07519388920788321\n",
      "  (0, 32445)\t0.07105116840472679\n",
      "  (0, 32023)\t0.05814485627670406\n",
      "  (0, 31998)\t0.19307658926053559\n",
      "  (0, 31852)\t0.10135502493676654\n",
      "  (0, 30370)\t0.07564349242514512\n",
      "  (0, 30364)\t0.10035354139419914\n",
      "  (0, 29937)\t0.07413236083795342\n",
      "  (0, 29932)\t0.11832125436812038\n",
      "  (0, 28261)\t0.0976922416651166\n",
      "  (0, 27877)\t0.08791018622844851\n",
      "  (0, 27772)\t0.05922677208300295\n",
      "  (0, 26749)\t0.08680437726730991\n",
      "  (0, 25929)\t0.09191904263156991\n",
      "  (0, 25733)\t0.04645313044566673\n",
      "  (0, 25535)\t0.03873120693065601\n",
      "  (0, 25426)\t0.09895624762825883\n",
      "  (0, 24615)\t0.095476766260338\n",
      "  :\t:\n",
      "  (1598, 13742)\t0.1338151922817066\n",
      "  (1598, 10417)\t0.08401952847466707\n",
      "  (1598, 10025)\t0.16702021141844622\n",
      "  (1598, 9800)\t0.07173961169549077\n",
      "  (1598, 9240)\t0.15492890225450395\n",
      "  (1598, 6487)\t0.3860490152628571\n",
      "  (1598, 6259)\t0.2037820231105087\n",
      "  (1598, 4351)\t0.17661762342997242\n",
      "  (1598, 3287)\t0.1469645605128415\n",
      "  (1599, 35215)\t0.10653933729988128\n",
      "  (1599, 34608)\t0.15300059545425712\n",
      "  (1599, 32569)\t0.1351334107908608\n",
      "  (1599, 30378)\t0.18599634945330226\n",
      "  (1599, 30075)\t0.15300059545425712\n",
      "  (1599, 27858)\t0.258387060751273\n",
      "  (1599, 23678)\t0.18430500948745618\n",
      "  (1599, 23197)\t0.1363612089103512\n",
      "  (1599, 21455)\t0.12506523086087906\n",
      "  (1599, 15254)\t0.18067128848788708\n",
      "  (1599, 9510)\t0.1938124103541934\n",
      "  (1599, 9509)\t0.39380282548789586\n",
      "  (1599, 4965)\t0.6253837369943354\n",
      "  (1599, 4018)\t0.258387060751273\n",
      "  (1599, 2863)\t0.19308406522281144\n",
      "  (1599, 2660)\t0.18322457629465486\n"
     ]
    }
   ],
   "source": [
    "from sklearn.feature_extraction.text import TfidfVectorizer, CountVectorizer  # CountVectorizer will be used later\n",
    "\n",
    "vectorizer = TfidfVectorizer(lowercase=True, analyzer=\"word\")\n",
    "X_training = vectorizer.fit_transform(ds.training[\"review_text\"])\n",
    "print(X_training.shape)\n",
    "print(X_training.toarray())\n",
    "print(vectorizer.get_params(), vectorizer.get_stop_words(), sep='\\n')\n",
    "X_testing = vectorizer.transform(ds.testing[\"review_text\"])\n",
    "print(X_testing.shape)\n",
    "print(X_testing)"
   ]
  },
  {
   "cell_type": "markdown",
   "metadata": {},
   "source": [
    "### 4. Example of Perceptron Classifier"
   ]
  },
  {
   "cell_type": "code",
   "execution_count": 25,
   "metadata": {},
   "outputs": [
    {
     "data": {
      "text/plain": [
       "0.776875"
      ]
     },
     "execution_count": 25,
     "metadata": {},
     "output_type": "execute_result"
    }
   ],
   "source": [
    "from sklearn.linear_model import Perceptron\n",
    "\n",
    "perceptron = Perceptron(shuffle=False)\n",
    "perceptron.fit(X_training, ds.training[\"polarity\"])\n",
    "perceptron.score(X_testing, ds.testing[\"polarity\"])"
   ]
  },
  {
   "cell_type": "markdown",
   "metadata": {},
   "source": [
    "### 5. Preprocessing experiments\n",
    "\n",
    "We are going to use 2 different vectorizer types: TF-IDF and Count.  \n",
    "N-grams will be word based (= whitespace separated).  \n",
    "We are going to try different n-grams lengths: 1 to 3.  "
   ]
  },
  {
   "cell_type": "code",
   "execution_count": 26,
   "metadata": {},
   "outputs": [],
   "source": [
    "tfidf_unigram_vectorizer = TfidfVectorizer(lowercase=True, analyzer=\"word\", ngram_range=(1, 1))\n",
    "tfidf_bigram_vectorizer = TfidfVectorizer(lowercase=True, analyzer=\"word\", ngram_range=(2, 2))\n",
    "tfidf_trigram_vectorizer = TfidfVectorizer(lowercase=True, analyzer=\"word\", ngram_range=(3, 3))\n",
    "\n",
    "count_unigram_vectorizer = CountVectorizer(lowercase=True, analyzer=\"word\", ngram_range=(1, 1))\n",
    "count_bigram_vectorizer = CountVectorizer(lowercase=True, analyzer=\"word\", ngram_range=(2, 2))\n",
    "count_trigram_vectorizer = CountVectorizer(lowercase=True, analyzer=\"word\", ngram_range=(3, 3))"
   ]
  },
  {
   "cell_type": "code",
   "execution_count": 27,
   "metadata": {},
   "outputs": [],
   "source": [
    "from copy import deepcopy\n",
    "\n",
    "base_perceptron = Perceptron()\n",
    "tfidf_unigram_perceptron = deepcopy(base_perceptron)  # deepcopying avoids having to copy parameters between multiple initializations\n",
    "tfidf_bigram_perceptron = deepcopy(base_perceptron)\n",
    "tfidf_trigram_perceptron = deepcopy(base_perceptron)\n",
    "count_unigram_perceptron = deepcopy(base_perceptron)\n",
    "count_bigram_perceptron = deepcopy(base_perceptron)\n",
    "count_trigram_perceptron = deepcopy(base_perceptron)"
   ]
  },
  {
   "cell_type": "code",
   "execution_count": 28,
   "metadata": {},
   "outputs": [],
   "source": [
    "X_training_tfidf_unigram = tfidf_unigram_vectorizer.fit_transform(ds.training[\"review_text\"], ds.training[\"polarity\"])\n",
    "X_testing_tfidf_unigram = tfidf_unigram_vectorizer.transform(ds.testing[\"review_text\"])\n",
    "X_training_tfidf_bigram = tfidf_bigram_vectorizer.fit_transform(ds.training[\"review_text\"], ds.training[\"polarity\"])\n",
    "X_testing_tfidf_bigram = tfidf_bigram_vectorizer.transform(ds.testing[\"review_text\"])\n",
    "X_training_tfidf_trigram = tfidf_trigram_vectorizer.fit_transform(ds.training[\"review_text\"], ds.training[\"polarity\"])\n",
    "X_testing_tfidf_trigram = tfidf_trigram_vectorizer.transform(ds.testing[\"review_text\"])\n",
    "\n",
    "X_training_count_unigram = count_unigram_vectorizer.fit_transform(ds.training[\"review_text\"], ds.training[\"polarity\"])\n",
    "X_testing_count_unigram = count_unigram_vectorizer.transform(ds.testing[\"review_text\"])\n",
    "X_training_count_bigram = count_bigram_vectorizer.fit_transform(ds.training[\"review_text\"], ds.training[\"polarity\"])\n",
    "X_testing_count_bigram = count_bigram_vectorizer.transform(ds.testing[\"review_text\"])\n",
    "X_training_count_trigram = count_trigram_vectorizer.fit_transform(ds.training[\"review_text\"], ds.training[\"polarity\"])\n",
    "X_testing_count_trigram = count_trigram_vectorizer.transform(ds.testing[\"review_text\"])"
   ]
  },
  {
   "cell_type": "code",
   "execution_count": 29,
   "metadata": {},
   "outputs": [
    {
     "data": {
      "text/plain": [
       "Perceptron()"
      ]
     },
     "execution_count": 29,
     "metadata": {},
     "output_type": "execute_result"
    }
   ],
   "source": [
    "tfidf_unigram_perceptron.fit(X_training_tfidf_unigram, ds.training[\"polarity\"])\n",
    "tfidf_bigram_perceptron.fit(X_training_tfidf_bigram, ds.training[\"polarity\"])\n",
    "tfidf_trigram_perceptron.fit(X_training_tfidf_trigram, ds.training[\"polarity\"])\n",
    "\n",
    "count_unigram_perceptron.fit(X_training_count_unigram, ds.training[\"polarity\"])\n",
    "count_bigram_perceptron.fit(X_training_count_bigram, ds.training[\"polarity\"])\n",
    "count_trigram_perceptron.fit(X_training_count_trigram, ds.training[\"polarity\"])"
   ]
  },
  {
   "cell_type": "code",
   "execution_count": 30,
   "metadata": {},
   "outputs": [
    {
     "name": "stdout",
     "output_type": "stream",
     "text": [
      "Macro average values:\n",
      "\tTFIDF vectorizer:\n",
      "\t\tUnigrams:\n",
      "\t\t\tPrecision: 0.793040078\tRecall: 0.792831232\tF-Score: 0.792488327\n",
      "\t\tBigrams: \n",
      "\t\t\tPrecision: 0.796378917\tRecall: 0.796419680\tF-Score: 0.796248727\n",
      "\t\tTrigrams:\n",
      "\t\t\tPrecision: 0.731622884\tRecall: 0.731524418\tF-Score: 0.731243281\n",
      "\n",
      "\tCounter vectorizer:\n",
      "\t\tUnigrams:\n",
      "\t\t\tPrecision: 0.796292727\tRecall: 0.795514753\tF-Score: 0.794927904\n",
      "\t\tBigrams: \n",
      "\t\t\tPrecision: 0.797490309\tRecall: 0.797568420\tF-Score: 0.797484495\n",
      "\t\tTrigrams:\n",
      "\t\t\tPrecision: 0.716715543\tRecall: 0.716561092\tF-Score: 0.716234038\n"
     ]
    },
    {
     "data": {
      "text/plain": [
       "(0.7167155425219941, 0.7165610919133334, 0.7162340381646467, None)"
      ]
     },
     "execution_count": 30,
     "metadata": {},
     "output_type": "execute_result"
    }
   ],
   "source": [
    "from sklearn.metrics import precision_recall_fscore_support\n",
    "\n",
    "s = \"\\t\\t\\tPrecision: {0:.9f}\\tRecall: {1:.9f}\\tF-Score: {2:.9f}\"\n",
    "\n",
    "\n",
    "def print_values(true_y, predicted_y, avg=\"macro\"):\n",
    "    values = precision_recall_fscore_support(true_y, predicted_y, average=avg)\n",
    "    print(s.format(*values))\n",
    "    return values\n",
    "\n",
    "\n",
    "print(\"Macro average values:\")\n",
    "\n",
    "print(\"\\tTFIDF vectorizer:\")\n",
    "print(\"\\t\\tUnigrams:\")\n",
    "print_values(ds.testing[\"polarity\"], tfidf_unigram_perceptron.predict(X_testing_tfidf_unigram))\n",
    "print(\"\\t\\tBigrams: \")\n",
    "print_values(ds.testing[\"polarity\"], tfidf_bigram_perceptron.predict(X_testing_tfidf_bigram))\n",
    "print(\"\\t\\tTrigrams:\")\n",
    "print_values(ds.testing[\"polarity\"], tfidf_trigram_perceptron.predict(X_testing_tfidf_trigram))\n",
    "print()\n",
    "print(\"\\tCounter vectorizer:\")\n",
    "print(\"\\t\\tUnigrams:\")\n",
    "print_values(ds.testing[\"polarity\"], count_unigram_perceptron.predict(X_testing_count_unigram))\n",
    "print(\"\\t\\tBigrams: \")\n",
    "print_values(ds.testing[\"polarity\"], count_bigram_perceptron.predict(X_testing_count_bigram))\n",
    "print(\"\\t\\tTrigrams:\")\n",
    "print_values(ds.testing[\"polarity\"], count_trigram_perceptron.predict(X_testing_count_trigram))"
   ]
  },
  {
   "cell_type": "markdown",
   "metadata": {},
   "source": [
    "It seems that both vectorizer types have similar behaviors. Trigrams are clearly less accurate than unigrams or bigrams, but the difference between those last two is much thinner.  \n",
    "Apparently, bigrams work better than unigrams, although the delta is less than 1 or 2% in each vectorizer."
   ]
  },
  {
   "cell_type": "markdown",
   "metadata": {},
   "source": [
    "### 6. Perceptron"
   ]
  },
  {
   "cell_type": "code",
   "execution_count": 34,
   "metadata": {},
   "outputs": [],
   "source": [
    "def perceptron_calc(domain, it=1000):\n",
    "    vec = TfidfVectorizer(lowercase=True, analyzer=\"word\")\n",
    "    training = vec.fit_transform(ds.training_by_domain[domain][\"review_text\"])\n",
    "    testing = vec.transform(ds.testing_by_domain[domain]['review_text'])\n",
    "    percep = Perceptron(shuffle=False, max_iter=it)\n",
    "    percep.fit(training, ds.training_by_domain[domain][\"polarity\"])\n",
    "    percep.score(testing, ds.testing_by_domain[domain][\"polarity\"])\n",
    "    print(s.format(*precision_recall_fscore_support(ds.testing_by_domain[domain][\"polarity\"], percep.predict(testing), average=\"macro\")))"
   ]
  },
  {
   "cell_type": "code",
   "execution_count": 35,
   "metadata": {},
   "outputs": [
    {
     "name": "stdout",
     "output_type": "stream",
     "text": [
      "\t\t\tPrecision: 0.755208333\tRecall: 0.754825483\tF-Score: 0.754846779\n",
      "\t\t\tPrecision: 0.755208333\tRecall: 0.754825483\tF-Score: 0.754846779\n",
      "\t\t\tPrecision: 0.755208333\tRecall: 0.754825483\tF-Score: 0.754846779\n",
      "\t\t\tPrecision: 0.755208333\tRecall: 0.754825483\tF-Score: 0.754846779\n",
      "\t\t\tPrecision: 0.755208333\tRecall: 0.754825483\tF-Score: 0.754846779\n",
      "\t\t\tPrecision: 0.755208333\tRecall: 0.754825483\tF-Score: 0.754846779\n",
      "\t\t\tPrecision: 0.755208333\tRecall: 0.754825483\tF-Score: 0.754846779\n",
      "\t\t\tPrecision: 0.755208333\tRecall: 0.754825483\tF-Score: 0.754846779\n"
     ]
    }
   ],
   "source": [
    "perceptron_calc('books', 100)\n",
    "perceptron_calc('books', 1000)\n",
    "perceptron_calc('books', 10000)\n",
    "perceptron_calc('books', 100000)\n",
    "perceptron_calc('books', 1000000)\n",
    "perceptron_calc('books', 10000000)\n",
    "perceptron_calc('books', 100000000)\n",
    "perceptron_calc('books', 1000000000)"
   ]
  },
  {
   "cell_type": "code",
   "execution_count": 36,
   "metadata": {},
   "outputs": [
    {
     "name": "stdout",
     "output_type": "stream",
     "text": [
      "\t\t\tPrecision: 0.782396854\tRecall: 0.782078871\tF-Score: 0.782193710\n",
      "\t\t\tPrecision: 0.773718963\tRecall: 0.774104337\tF-Score: 0.773892071\n",
      "\t\t\tPrecision: 0.791982679\tRecall: 0.792355890\tF-Score: 0.792124525\n"
     ]
    }
   ],
   "source": [
    "perceptron_calc('dvd')\n",
    "perceptron_calc('electronics')\n",
    "perceptron_calc('kitchen & housewares')"
   ]
  },
  {
   "cell_type": "markdown",
   "metadata": {},
   "source": [
    "### 7. K-nearest neighbours"
   ]
  },
  {
   "cell_type": "markdown",
   "metadata": {
    "collapsed": false
   },
   "source": [
    "### Perceptron"
   ]
  },
  {
   "cell_type": "code",
   "execution_count": 37,
   "metadata": {},
   "outputs": [
    {
     "name": "stdout",
     "output_type": "stream",
     "text": [
      "Number of neighbours: 5\n",
      "\t\t\tPrecision: 0.880101539\tRecall: 0.877500000\tF-Score: 0.877310603\n",
      "Number of neighbours: 10\n",
      "\t\t\tPrecision: 0.901752659\tRecall: 0.900625000\tF-Score: 0.900639511\n",
      "Number of neighbours: 15\n",
      "\t\t\tPrecision: 0.907536787\tRecall: 0.905625000\tF-Score: 0.905580826\n",
      "Number of neighbours: 20\n",
      "\t\t\tPrecision: 0.914367589\tRecall: 0.912500000\tF-Score: 0.912504953\n",
      "Number of neighbours: 25\n",
      "\t\t\tPrecision: 0.913590703\tRecall: 0.911875000\tF-Score: 0.911920810\n",
      "Number of neighbours: 30\n",
      "\t\t\tPrecision: 0.914197745\tRecall: 0.912500000\tF-Score: 0.912512600\n",
      "Number of neighbours: 35\n",
      "\t\t\tPrecision: 0.915026251\tRecall: 0.913125000\tF-Score: 0.913203938\n",
      "Number of neighbours: 40\n",
      "\t\t\tPrecision: 0.910865929\tRecall: 0.908750000\tF-Score: 0.908829062\n",
      "Number of neighbours: 45\n",
      "\t\t\tPrecision: 0.914599471\tRecall: 0.911875000\tF-Score: 0.912022847\n",
      "Number of neighbours: 50\n",
      "\t\t\tPrecision: 0.915398212\tRecall: 0.911875000\tF-Score: 0.911954631\n",
      "Number of neighbours: 55\n",
      "\t\t\tPrecision: 0.918021566\tRecall: 0.914375000\tF-Score: 0.914511910\n",
      "Number of neighbours: 60\n",
      "\t\t\tPrecision: 0.917923193\tRecall: 0.914375000\tF-Score: 0.914468666\n",
      "Number of neighbours: 65\n",
      "\t\t\tPrecision: 0.921654624\tRecall: 0.918125000\tF-Score: 0.918127925\n",
      "Number of neighbours: 70\n",
      "\t\t\tPrecision: 0.919405412\tRecall: 0.915625000\tF-Score: 0.915719691\n",
      "Number of neighbours: 75\n",
      "\t\t\tPrecision: 0.918377289\tRecall: 0.915000000\tF-Score: 0.914946281\n",
      "Number of neighbours: 80\n",
      "\t\t\tPrecision: 0.918437711\tRecall: 0.915000000\tF-Score: 0.914993034\n",
      "Number of neighbours: 85\n",
      "\t\t\tPrecision: 0.919926610\tRecall: 0.916875000\tF-Score: 0.916871763\n",
      "Number of neighbours: 90\n",
      "\t\t\tPrecision: 0.915724311\tRecall: 0.911875000\tF-Score: 0.911958836\n",
      "Number of neighbours: 95\n",
      "\t\t\tPrecision: 0.915749980\tRecall: 0.912500000\tF-Score: 0.912453325\n",
      "Number of neighbours: 100\n",
      "\t\t\tPrecision: 0.917121261\tRecall: 0.914375000\tF-Score: 0.914270938\n",
      "Number of neighbours: 105\n",
      "\t\t\tPrecision: 0.919745000\tRecall: 0.916875000\tF-Score: 0.916810411\n",
      "Number of neighbours: 110\n",
      "\t\t\tPrecision: 0.921071610\tRecall: 0.917500000\tF-Score: 0.917417663\n",
      "Number of neighbours: 115\n",
      "\t\t\tPrecision: 0.918743709\tRecall: 0.915000000\tF-Score: 0.914958796\n",
      "Number of neighbours: 120\n",
      "\t\t\tPrecision: 0.920612757\tRecall: 0.916875000\tF-Score: 0.916735568\n",
      "Number of neighbours: 125\n",
      "\t\t\tPrecision: 0.920320345\tRecall: 0.916875000\tF-Score: 0.916720910\n",
      "Number of neighbours: 130\n",
      "\t\t\tPrecision: 0.918189081\tRecall: 0.914375000\tF-Score: 0.914323414\n",
      "Number of neighbours: 135\n",
      "\t\t\tPrecision: 0.919083703\tRecall: 0.915000000\tF-Score: 0.914935264\n",
      "Number of neighbours: 140\n",
      "\t\t\tPrecision: 0.918172011\tRecall: 0.914375000\tF-Score: 0.914303435\n",
      "Number of neighbours: 145\n",
      "\t\t\tPrecision: 0.919668382\tRecall: 0.915625000\tF-Score: 0.915625270\n",
      "Number of neighbours: 150\n",
      "\t\t\tPrecision: 0.917672179\tRecall: 0.913750000\tF-Score: 0.913614300\n",
      "Number of neighbours: 155\n",
      "\t\t\tPrecision: 0.916913082\tRecall: 0.912500000\tF-Score: 0.912418674\n",
      "Number of neighbours: 160\n",
      "\t\t\tPrecision: 0.915415814\tRecall: 0.910625000\tF-Score: 0.910580801\n",
      "Number of neighbours: 165\n",
      "\t\t\tPrecision: 0.914791829\tRecall: 0.910000000\tF-Score: 0.909801644\n",
      "Number of neighbours: 170\n",
      "\t\t\tPrecision: 0.915436890\tRecall: 0.910625000\tF-Score: 0.910494292\n",
      "Number of neighbours: 175\n",
      "\t\t\tPrecision: 0.915831829\tRecall: 0.911250000\tF-Score: 0.911072725\n",
      "Number of neighbours: 180\n",
      "\t\t\tPrecision: 0.915050247\tRecall: 0.910625000\tF-Score: 0.910442752\n",
      "Number of neighbours: 185\n",
      "\t\t\tPrecision: 0.916143074\tRecall: 0.911250000\tF-Score: 0.911079336\n",
      "Number of neighbours: 190\n",
      "\t\t\tPrecision: 0.917964923\tRecall: 0.913750000\tF-Score: 0.913636171\n",
      "Number of neighbours: 195\n",
      "\t\t\tPrecision: 0.916383780\tRecall: 0.911875000\tF-Score: 0.911723994\n",
      "Number of neighbours: 250\n",
      "\t\t\tPrecision: 0.909416802\tRecall: 0.904375000\tF-Score: 0.904029921\n",
      "Number of neighbours: 300\n",
      "\t\t\tPrecision: 0.902356970\tRecall: 0.896250000\tF-Score: 0.895456778\n",
      "Number of neighbours: 350\n",
      "\t\t\tPrecision: 0.903408766\tRecall: 0.896875000\tF-Score: 0.895969926\n",
      "Number of neighbours: 400\n",
      "\t\t\tPrecision: 0.899467150\tRecall: 0.891875000\tF-Score: 0.890970059\n",
      "Number of neighbours: 450\n",
      "\t\t\tPrecision: 0.893959393\tRecall: 0.885625000\tF-Score: 0.884747152\n",
      "Number of neighbours: 500\n",
      "\t\t\tPrecision: 0.887658460\tRecall: 0.876875000\tF-Score: 0.875885285\n",
      "Number of neighbours: 1000\n",
      "\t\t\tPrecision: 0.866533701\tRecall: 0.846250000\tF-Score: 0.844445287\n",
      "Number of neighbours: 1500\n",
      "\t\t\tPrecision: 0.833399763\tRecall: 0.797500000\tF-Score: 0.793816042\n",
      "Number of neighbours: 2000\n",
      "\t\t\tPrecision: 0.810439094\tRecall: 0.761250000\tF-Score: 0.754681357\n",
      "Number of neighbours: 2500\n",
      "\t\t\tPrecision: 0.793307529\tRecall: 0.730625000\tF-Score: 0.720731328\n"
     ]
    },
    {
     "data": {
      "image/png": "[encoded data removed]",
      "text/plain": [
       "<Figure size 432x288 with 1 Axes>"
      ]
     },
     "metadata": {
      "needs_background": "light"
     },
     "output_type": "display_data"
    }
   ],
   "source": [
    "from sklearn.neighbors import KNeighborsClassifier\n",
    "from sklearn.metrics import confusion_matrix\n",
    "import matplotlib.pyplot as plt\n",
    "\n",
    "def print_values_for_n_neighbors(n, matrix=False):\n",
    "    training = ds.training.sample(frac=1, random_state=9)\n",
    "    testing = ds.testing.sample(frac=1, random_state=9)\n",
    "    kneighbors = KNeighborsClassifier(n_neighbors=n)\n",
    "    vectorizer = TfidfVectorizer()\n",
    "    X_training = vectorizer.fit_transform(training[\"review_text\"], training[\"domain\"])\n",
    "    X_testing = vectorizer.transform(testing[\"review_text\"])\n",
    "    kneighbors.fit(X_training, training[\"domain\"])\n",
    "    if not matrix:\n",
    "        return print_values(testing[\"domain\"], kneighbors.predict(X_testing))\n",
    "    else:\n",
    "        print_values(testing[\"domain\"], kneighbors.predict(X_testing))\n",
    "        return confusion_matrix(testing[\"domain\"], kneighbors.predict(X_testing), labels=testing[\"domain\"].unique())\n",
    "\n",
    "best_values = [0, 0, 0, None]\n",
    "best_n = 0\n",
    "\n",
    "def run_multiple_n_neighbors(range_: range):\n",
    "    global best_values, best_n\n",
    "    f_scores = []\n",
    "    for i in range_:\n",
    "        print(\"Number of neighbours:\", i)\n",
    "        values = print_values_for_n_neighbors(i)\n",
    "        f_scores.append(values[2])\n",
    "        if values[2] > best_values[2]:\n",
    "            best_values = values\n",
    "            best_n = i\n",
    "    plt.plot(range_, f_scores)\n",
    "\n",
    "run_multiple_n_neighbors(range(5, 200, 5))\n",
    "run_multiple_n_neighbors(range(250, 500, 50))\n",
    "run_multiple_n_neighbors(range(500, 3000, 500))\n",
    "plt.show()"
   ]
  },
  {
   "cell_type": "markdown",
   "metadata": {},
   "source": [
    "From the plot outputted here, we can see that the best range for the number of neighbors is between 10 and 200.\n",
    "Hereunder are the best results during this run:"
   ]
  },
  {
   "cell_type": "code",
   "execution_count": 38,
   "metadata": {},
   "outputs": [
    {
     "name": "stdout",
     "output_type": "stream",
     "text": [
      "\n",
      "Best number of neighbors: 65\n",
      "Best values:\n",
      " (0.921654624314152, 0.9181250000000001, 0.9181279246186587, None)\n"
     ]
    }
   ],
   "source": [
    "print(\"\\nBest number of neighbors:\", best_n)\n",
    "print(\"Best values:\\n\", best_values)"
   ]
  },
  {
   "cell_type": "code",
   "execution_count": 39,
   "metadata": {},
   "outputs": [
    {
     "name": "stdout",
     "output_type": "stream",
     "text": [
      "Macro averages for K-Neigbours classifier with K = 65\n",
      "\t\t\tPrecision: 0.921654624\tRecall: 0.918125000\tF-Score: 0.918127925\n",
      "Confusion matrix of K-Neighbours with K = 65\n"
     ]
    },
    {
     "data": {
      "image/png": "[encoded data removed]",
      "text/plain": [
       "<Figure size 1080x216 with 1 Axes>"
      ]
     },
     "metadata": {
      "needs_background": "light"
     },
     "output_type": "display_data"
    }
   ],
   "source": [
    "training = ds.training.sample(frac=1, random_state=9)\n",
    "testing = ds.testing.sample(frac=1, random_state=9)\n",
    "kneighbors = KNeighborsClassifier(n_neighbors=best_n)\n",
    "vectorizer = TfidfVectorizer()\n",
    "X_training = vectorizer.fit_transform(training[\"review_text\"], training[\"domain\"])\n",
    "X_testing = vectorizer.transform(testing[\"review_text\"])\n",
    "kneighbors.fit(X_training, training[\"domain\"])\n",
    "print(\"Macro averages for K-Neigbours classifier with K =\", best_n)\n",
    "matrix = print_values_for_n_neighbors(65, matrix=True)\n",
    "\n",
    "\n",
    "fig, ax = plt.subplots()\n",
    "fig.set_size_inches(15, 3)\n",
    "# hide axes\n",
    "fig.patch.set_visible(False)\n",
    "ax.axis('off')\n",
    "ax.axis('tight')\n",
    "\n",
    "ax.table(matrix, loc=\"center\", colLabels=testing[\"domain\"].unique(), rowLabels=testing[\"domain\"].unique(), colLoc=\"center\")\n",
    "fig.tight_layout()\n",
    "print(\"Confusion matrix of K-Neighbours with K =\", best_n)\n",
    "plt.show()"
   ]
  },
  {
   "cell_type": "markdown",
   "metadata": {
    "collapsed": false,
    "pycharm": {
     "name": "#%% md\n"
    }
   },
   "source": [
    "#### Books"
   ]
  },
  {
   "cell_type": "code",
   "execution_count": 40,
   "metadata": {
    "collapsed": false,
    "pycharm": {
     "name": "#%%\n"
    }
   },
   "outputs": [
    {
     "name": "stdout",
     "output_type": "stream",
     "text": [
      "\t\t\tPrecision: 0.755208333\tRecall: 0.754825483\tF-Score: 0.754846779\n",
      "\t\t\tPrecision: 0.755208333\tRecall: 0.754825483\tF-Score: 0.754846779\n",
      "\t\t\tPrecision: 0.755208333\tRecall: 0.754825483\tF-Score: 0.754846779\n",
      "\t\t\tPrecision: 0.755208333\tRecall: 0.754825483\tF-Score: 0.754846779\n",
      "\t\t\tPrecision: 0.755208333\tRecall: 0.754825483\tF-Score: 0.754846779\n",
      "\t\t\tPrecision: 0.755208333\tRecall: 0.754825483\tF-Score: 0.754846779\n",
      "\t\t\tPrecision: 0.755208333\tRecall: 0.754825483\tF-Score: 0.754846779\n",
      "\t\t\tPrecision: 0.755208333\tRecall: 0.754825483\tF-Score: 0.754846779\n"
     ]
    }
   ],
   "source": [
    "perceptron_calc('books', 100)\n",
    "perceptron_calc('books', 1000)\n",
    "perceptron_calc('books', 10000)\n",
    "perceptron_calc('books', 100000)\n",
    "perceptron_calc('books', 1000000)\n",
    "perceptron_calc('books', 10000000)\n",
    "perceptron_calc('books', 100000000)\n",
    "perceptron_calc('books', 1000000000)"
   ]
  },
  {
   "cell_type": "markdown",
   "metadata": {
    "collapsed": false
   },
   "source": [
    "#### DVD"
   ]
  },
  {
   "cell_type": "code",
   "execution_count": 41,
   "metadata": {
    "collapsed": false,
    "pycharm": {
     "name": "#%%\n"
    }
   },
   "outputs": [
    {
     "name": "stdout",
     "output_type": "stream",
     "text": [
      "\t\t\tPrecision: 0.782396854\tRecall: 0.782078871\tF-Score: 0.782193710\n"
     ]
    }
   ],
   "source": [
    "perceptron_calc('dvd')"
   ]
  },
  {
   "cell_type": "markdown",
   "metadata": {
    "collapsed": false
   },
   "source": [
    "#### Electronics"
   ]
  },
  {
   "cell_type": "code",
   "execution_count": 42,
   "metadata": {
    "collapsed": false,
    "pycharm": {
     "name": "#%%\n"
    }
   },
   "outputs": [
    {
     "name": "stdout",
     "output_type": "stream",
     "text": [
      "\t\t\tPrecision: 0.773718963\tRecall: 0.774104337\tF-Score: 0.773892071\n"
     ]
    }
   ],
   "source": [
    "perceptron_calc('electronics')"
   ]
  },
  {
   "cell_type": "markdown",
   "metadata": {
    "collapsed": false
   },
   "source": [
    "#### Kitchen And Housewares"
   ]
  },
  {
   "cell_type": "code",
   "execution_count": 43,
   "metadata": {
    "collapsed": false,
    "pycharm": {
     "name": "#%%\n"
    }
   },
   "outputs": [
    {
     "name": "stdout",
     "output_type": "stream",
     "text": [
      "\t\t\tPrecision: 0.791982679\tRecall: 0.792355890\tF-Score: 0.792124525\n"
     ]
    }
   ],
   "source": [
    "perceptron_calc('kitchen & housewares')\n"
   ]
  },
  {
   "cell_type": "markdown",
   "metadata": {
    "collapsed": false,
    "pycharm": {
     "name": "#%% md\n"
    }
   },
   "source": [
    "### Naive Bayes"
   ]
  },
  {
   "cell_type": "code",
   "execution_count": 44,
   "metadata": {
    "collapsed": false,
    "pycharm": {
     "name": "#%%\n"
    }
   },
   "outputs": [
    {
     "ename": "NotFittedError",
     "evalue": "The TF-IDF vectorizer is not fitted",
     "output_type": "error",
     "traceback": [
      "\u001b[1;31m---------------------------------------------------------------------------\u001b[0m",
      "\u001b[1;31mNotFittedError\u001b[0m                            Traceback (most recent call last)",
      "\u001b[1;32m~\\AppData\\Local\\Temp/ipykernel_24216/1233934324.py\u001b[0m in \u001b[0;36m<module>\u001b[1;34m\u001b[0m\n\u001b[0;32m      1\u001b[0m \u001b[1;32mfrom\u001b[0m \u001b[0msklearn\u001b[0m\u001b[1;33m.\u001b[0m\u001b[0mnaive_bayes\u001b[0m \u001b[1;32mimport\u001b[0m \u001b[0mGaussianNB\u001b[0m\u001b[1;33m\u001b[0m\u001b[1;33m\u001b[0m\u001b[0m\n\u001b[0;32m      2\u001b[0m \u001b[0mvec_nb\u001b[0m \u001b[1;33m=\u001b[0m \u001b[0mTfidfVectorizer\u001b[0m\u001b[1;33m(\u001b[0m\u001b[0mlowercase\u001b[0m\u001b[1;33m=\u001b[0m\u001b[1;32mTrue\u001b[0m\u001b[1;33m,\u001b[0m \u001b[0manalyzer\u001b[0m\u001b[1;33m=\u001b[0m\u001b[1;34m\"word\"\u001b[0m\u001b[1;33m,\u001b[0m \u001b[0mstop_words\u001b[0m\u001b[1;33m=\u001b[0m\u001b[1;34m\"english\"\u001b[0m\u001b[1;33m)\u001b[0m\u001b[1;33m\u001b[0m\u001b[1;33m\u001b[0m\u001b[0m\n\u001b[1;32m----> 3\u001b[1;33m \u001b[0mnb_train_data\u001b[0m \u001b[1;33m=\u001b[0m \u001b[0mvec_nb\u001b[0m\u001b[1;33m.\u001b[0m\u001b[0mtransform\u001b[0m\u001b[1;33m(\u001b[0m\u001b[0mds\u001b[0m\u001b[1;33m.\u001b[0m\u001b[0mtraining\u001b[0m\u001b[1;33m[\u001b[0m\u001b[1;34m'review_text'\u001b[0m\u001b[1;33m]\u001b[0m\u001b[1;33m)\u001b[0m\u001b[1;33m\u001b[0m\u001b[1;33m\u001b[0m\u001b[0m\n\u001b[0m\u001b[0;32m      4\u001b[0m \u001b[0mnb_train_result\u001b[0m \u001b[1;33m=\u001b[0m \u001b[0mds\u001b[0m\u001b[1;33m.\u001b[0m\u001b[0mtraining\u001b[0m\u001b[1;33m[\u001b[0m\u001b[1;34m'rating_str'\u001b[0m\u001b[1;33m]\u001b[0m\u001b[1;33m\u001b[0m\u001b[1;33m\u001b[0m\u001b[0m\n\u001b[0;32m      5\u001b[0m \u001b[0mbooks_nb_test\u001b[0m \u001b[1;33m=\u001b[0m \u001b[0mvec_nb\u001b[0m\u001b[1;33m.\u001b[0m\u001b[0mtransform\u001b[0m\u001b[1;33m(\u001b[0m\u001b[0mds\u001b[0m\u001b[1;33m.\u001b[0m\u001b[0mtesting_by_domain\u001b[0m\u001b[1;33m[\u001b[0m\u001b[1;34m'books'\u001b[0m\u001b[1;33m]\u001b[0m\u001b[1;33m[\u001b[0m\u001b[1;34m'review_text'\u001b[0m\u001b[1;33m]\u001b[0m\u001b[1;33m)\u001b[0m\u001b[1;33m\u001b[0m\u001b[1;33m\u001b[0m\u001b[0m\n",
      "\u001b[1;32m~\\AppData\\Roaming\\Python\\Python39\\site-packages\\sklearn\\feature_extraction\\text.py\u001b[0m in \u001b[0;36mtransform\u001b[1;34m(self, raw_documents)\u001b[0m\n\u001b[0;32m   2097\u001b[0m             \u001b[0mTf\u001b[0m\u001b[1;33m-\u001b[0m\u001b[0midf\u001b[0m\u001b[1;33m-\u001b[0m\u001b[0mweighted\u001b[0m \u001b[0mdocument\u001b[0m\u001b[1;33m-\u001b[0m\u001b[0mterm\u001b[0m \u001b[0mmatrix\u001b[0m\u001b[1;33m.\u001b[0m\u001b[1;33m\u001b[0m\u001b[1;33m\u001b[0m\u001b[0m\n\u001b[0;32m   2098\u001b[0m         \"\"\"\n\u001b[1;32m-> 2099\u001b[1;33m         \u001b[0mcheck_is_fitted\u001b[0m\u001b[1;33m(\u001b[0m\u001b[0mself\u001b[0m\u001b[1;33m,\u001b[0m \u001b[0mmsg\u001b[0m\u001b[1;33m=\u001b[0m\u001b[1;34m\"The TF-IDF vectorizer is not fitted\"\u001b[0m\u001b[1;33m)\u001b[0m\u001b[1;33m\u001b[0m\u001b[1;33m\u001b[0m\u001b[0m\n\u001b[0m\u001b[0;32m   2100\u001b[0m \u001b[1;33m\u001b[0m\u001b[0m\n\u001b[0;32m   2101\u001b[0m         \u001b[0mX\u001b[0m \u001b[1;33m=\u001b[0m \u001b[0msuper\u001b[0m\u001b[1;33m(\u001b[0m\u001b[1;33m)\u001b[0m\u001b[1;33m.\u001b[0m\u001b[0mtransform\u001b[0m\u001b[1;33m(\u001b[0m\u001b[0mraw_documents\u001b[0m\u001b[1;33m)\u001b[0m\u001b[1;33m\u001b[0m\u001b[1;33m\u001b[0m\u001b[0m\n",
      "\u001b[1;32m~\\AppData\\Roaming\\Python\\Python39\\site-packages\\sklearn\\utils\\validation.py\u001b[0m in \u001b[0;36mcheck_is_fitted\u001b[1;34m(estimator, attributes, msg, all_or_any)\u001b[0m\n\u001b[0;32m   1207\u001b[0m \u001b[1;33m\u001b[0m\u001b[0m\n\u001b[0;32m   1208\u001b[0m     \u001b[1;32mif\u001b[0m \u001b[1;32mnot\u001b[0m \u001b[0mfitted\u001b[0m\u001b[1;33m:\u001b[0m\u001b[1;33m\u001b[0m\u001b[1;33m\u001b[0m\u001b[0m\n\u001b[1;32m-> 1209\u001b[1;33m         \u001b[1;32mraise\u001b[0m \u001b[0mNotFittedError\u001b[0m\u001b[1;33m(\u001b[0m\u001b[0mmsg\u001b[0m \u001b[1;33m%\u001b[0m \u001b[1;33m{\u001b[0m\u001b[1;34m\"name\"\u001b[0m\u001b[1;33m:\u001b[0m \u001b[0mtype\u001b[0m\u001b[1;33m(\u001b[0m\u001b[0mestimator\u001b[0m\u001b[1;33m)\u001b[0m\u001b[1;33m.\u001b[0m\u001b[0m__name__\u001b[0m\u001b[1;33m}\u001b[0m\u001b[1;33m)\u001b[0m\u001b[1;33m\u001b[0m\u001b[1;33m\u001b[0m\u001b[0m\n\u001b[0m\u001b[0;32m   1210\u001b[0m \u001b[1;33m\u001b[0m\u001b[0m\n\u001b[0;32m   1211\u001b[0m \u001b[1;33m\u001b[0m\u001b[0m\n",
      "\u001b[1;31mNotFittedError\u001b[0m: The TF-IDF vectorizer is not fitted"
     ]
    }
   ],
   "source": [
    "from sklearn.naive_bayes import GaussianNB\n",
    "vec_nb = TfidfVectorizer(lowercase=True, analyzer=\"word\")\n",
    "nb_train_data = vec_nb.transform(ds.training['review_text'])\n",
    "nb_train_result = ds.training['rating_str']\n",
    "books_nb_test = vec_nb.transform(ds.testing_by_domain['books']['review_text'])\n",
    "\n",
    "\n",
    "gnb = GaussianNB()\n",
    "pred = gnb.fit(nb_train_data, nb_train_result).predict(books_nb_test)\n",
    "print(pred)\n"
   ]
  },
  {
   "cell_type": "markdown",
   "metadata": {
    "collapsed": false,
    "pycharm": {
     "name": "#%% md\n"
    }
   },
   "source": [
    "### Decision Trees"
   ]
  },
  {
   "cell_type": "code",
   "execution_count": 47,
   "metadata": {
    "collapsed": false,
    "pycharm": {
     "name": "#%%\n"
    }
   },
   "outputs": [
    {
     "name": "stdout",
     "output_type": "stream",
     "text": [
      "\t\t\tPrecision: 0.665010414\tRecall: 0.665053741\tF-Score: 0.664981155\n"
     ]
    }
   ],
   "source": [
    "from sklearn import tree\n",
    "vec_dt = TfidfVectorizer(lowercase=True, analyzer=\"word\", stop_words=\"english\")\n",
    "training_dt = vec_dt.fit_transform(ds.training[\"review_text\"])\n",
    "testing_dt = vec_dt.transform(ds.testing[\"review_text\"])\n",
    "clf = tree.DecisionTreeClassifier()\n",
    "clf.fit(training_dt, ds.training[\"polarity\"]).score(testing_dt, ds.testing[\"polarity\"])\n",
    "print(s.format(*precision_recall_fscore_support(ds.testing[\"polarity\"], clf.predict(testing_dt), average=\"macro\")))"
   ]
  },
  {
   "cell_type": "markdown",
   "metadata": {
    "collapsed": false
   },
   "source": [
    "- max_depth: number of tree's nodes the higher the value, the higher and closer values are\n",
    "    - the higher the value, the higher and closer values are\n",
    "-"
   ]
  },
  {
   "cell_type": "markdown",
   "metadata": {
    "collapsed": false,
    "pycharm": {
     "name": "#%% md\n"
    }
   },
   "source": [
    "### Support Vector Machines"
   ]
  },
  {
   "cell_type": "code",
   "execution_count": 49,
   "metadata": {
    "collapsed": false,
    "pycharm": {
     "name": "#%%\n"
    }
   },
   "outputs": [
    {
     "name": "stdout",
     "output_type": "stream",
     "text": [
      "\t\t\tPrecision: 0.817448299\tRecall: 0.817472114\tF-Score: 0.817458928\n"
     ]
    }
   ],
   "source": [
    "from sklearn import svm\n",
    "vec_svm = TfidfVectorizer(lowercase=True, analyzer=\"word\")\n",
    "training_svm = vec_svm.fit_transform(ds.training[\"review_text\"])\n",
    "testing_svm = vec_svm.transform(ds.testing[\"review_text\"])\n",
    "clf = svm.SVC()\n",
    "clf.fit(training_svm, ds.training[\"polarity\"])\n",
    "clf.score(testing_svm, ds.testing[\"polarity\"])\n",
    "print(s.format(*precision_recall_fscore_support(ds.testing[\"polarity\"], clf.predict(testing_svm), average=\"macro\")))"
   ]
  },
  {
   "cell_type": "code",
   "execution_count": null,
   "metadata": {},
   "outputs": [],
   "source": []
  },
  {
   "cell_type": "code",
   "execution_count": null,
   "metadata": {},
   "outputs": [],
   "source": []
  }
 ],
 "metadata": {
  "interpreter": {
   "hash": "e99c606221478606e184a054e6047426ce52f9cc3eb14d6318f1ef08b00da85e"
  },
  "kernelspec": {
   "display_name": "Python 3 (ipykernel)",
   "language": "python",
   "name": "python3"
  },
  "language_info": {
   "codemirror_mode": {
    "name": "ipython",
    "version": 3
   },
   "file_extension": ".py",
   "mimetype": "text/x-python",
   "name": "python",
   "nbconvert_exporter": "python",
   "pygments_lexer": "ipython3",
   "version": "3.9.7"
  },
  "orig_nbformat": 4
 },
 "nbformat": 4,
 "nbformat_minor": 2
}
