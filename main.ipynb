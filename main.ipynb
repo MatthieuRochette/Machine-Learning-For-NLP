{
 "cells": [
  {
   "cell_type": "code",
   "execution_count": 51,
   "metadata": {},
   "outputs": [],
   "source": [
    "from src.dataset import DataSet\n",
    "from src.dataset_parser import parse_data_to_csv\n",
    "from sklearn.dummy import DummyClassifier"
   ]
  },
  {
   "cell_type": "code",
   "execution_count": 52,
   "metadata": {},
   "outputs": [],
   "source": [
    "raw_path = \"./original_data\"\n",
    "parsed_path = \"./parsed_data\"\n",
    "# parse_data_to_csv(raw_path, parsed_path) // DO NOT EXECUTE UNLESS PARSED DATA IS LOST"
   ]
  },
  {
   "cell_type": "code",
   "execution_count": 53,
   "metadata": {},
   "outputs": [],
   "source": [
    "ds = DataSet(parsed_path)\n",
    "dummy_domain = DummyClassifier(strategy=\"most_frequent\")\n",
    "dummy_polarity = DummyClassifier(strategy=\"most_frequent\")\n",
    "dummy_rating_str = DummyClassifier(strategy=\"most_frequent\")"
   ]
  },
  {
   "cell_type": "code",
   "execution_count": 54,
   "metadata": {},
   "outputs": [
    {
     "data": {
      "text/plain": [
       "DummyClassifier(strategy='most_frequent')"
      ]
     },
     "execution_count": 54,
     "metadata": {},
     "output_type": "execute_result"
    }
   ],
   "source": [
    "# print(ds.training, ds.training.dtypes)\n",
    "dummy_domain.fit(ds.training[\"review_text\"], ds.training[\"domain\"])\n",
    "dummy_polarity.fit(ds.training[\"review_text\"], ds.training[\"polarity\"])\n",
    "dummy_rating_str.fit(ds.training[\"review_text\"], ds.training[\"rating_str\"].astype(str))  # column seems to automatically reconvert to float if not forced in str"
   ]
  },
  {
   "cell_type": "code",
   "execution_count": 55,
   "metadata": {},
   "outputs": [
    {
     "name": "stdout",
     "output_type": "stream",
     "text": [
      "['books' 'books' 'books' ... 'books' 'books' 'books']\n",
      "['negative' 'negative' 'negative' ... 'negative' 'negative' 'negative']\n",
      "['5.0' '5.0' '5.0' ... '5.0' '5.0' '5.0']\n"
     ]
    }
   ],
   "source": [
    "print(dummy_domain.predict(ds.testing[\"review_text\"]))\n",
    "print(dummy_polarity.predict(ds.testing[\"review_text\"]))\n",
    "print(dummy_rating_str.predict(ds.testing[\"review_text\"]))"
   ]
  },
  {
   "cell_type": "code",
   "execution_count": 56,
   "metadata": {},
   "outputs": [
    {
     "name": "stdout",
     "output_type": "stream",
     "text": [
      "0.25\n",
      "0.491875\n",
      "domain          object\n",
      "rating         float64\n",
      "review_text     object\n",
      "polarity        object\n",
      "rating_str      object\n",
      "dtype: object (6400, 5)\n",
      "domain          object\n",
      "rating         float64\n",
      "review_text     object\n",
      "polarity        object\n",
      "rating_str      object\n",
      "dtype: object (1600, 5)\n",
      "[(<class 'float'>, 4.0), (<class 'float'>, 2.0), (<class 'float'>, 1.0), (<class 'float'>, 5.0)]\n",
      "0.355625\n"
     ]
    }
   ],
   "source": [
    "print(dummy_domain.score(ds.testing[\"review_text\"], ds.testing[\"domain\"]))\n",
    "print(dummy_polarity.score(ds.testing[\"review_text\"], ds.testing[\"polarity\"]))\n",
    "print(dummy_rating_str.score(ds.testing[\"review_text\"], ds.testing[\"rating_str\"].astype(str)))"
   ]
  },
  {
   "cell_type": "code",
   "execution_count": null,
   "metadata": {},
   "outputs": [],
   "source": []
  }
 ],
 "metadata": {
  "interpreter": {
   "hash": "e99c606221478606e184a054e6047426ce52f9cc3eb14d6318f1ef08b00da85e"
  },
  "kernelspec": {
   "display_name": "Python 3.9.7 64-bit",
   "name": "python3"
  },
  "language_info": {
   "codemirror_mode": {
    "name": "ipython",
    "version": 3
   },
   "file_extension": ".py",
   "mimetype": "text/x-python",
   "name": "python",
   "nbconvert_exporter": "python",
   "pygments_lexer": "ipython3",
   "version": "3.9.7"
  },
  "orig_nbformat": 4
 },
 "nbformat": 4,
 "nbformat_minor": 2
}
