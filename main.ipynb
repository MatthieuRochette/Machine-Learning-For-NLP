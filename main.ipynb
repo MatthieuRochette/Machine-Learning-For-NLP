{
 "cells": [
  {
   "cell_type": "markdown",
   "metadata": {},
   "source": [
    "# Machine Learning for NLP\n",
    "*This project requires Python 3.9+*\n",
    "### 1. Parsing and saving the data"
   ]
  },
  {
   "cell_type": "code",
   "execution_count": 1,
   "metadata": {},
   "outputs": [],
   "source": [
    "from src.dataset_parser import parse_data_to_csv\n",
    "\n",
    "raw_path = \"./original_data\"\n",
    "parsed_path = \"./parsed_data\"\n",
    "# parse_data_to_csv(raw_path, parsed_path) // DO NOT EXECUTE UNLESS PARSED DATA IS LOST, OR USE OTHER parsed_path"
   ]
  },
  {
   "cell_type": "markdown",
   "metadata": {},
   "source": [
    "### 2. Loading parsed data & Dummy Classifier"
   ]
  },
  {
   "cell_type": "code",
   "execution_count": 2,
   "metadata": {},
   "outputs": [],
   "source": [
    "from sklearn.dummy import DummyClassifier\n",
    "\n",
    "from src.dataset import DataSet\n",
    "\n",
    "ds = DataSet(parsed_path)\n",
    "dummy_domain = DummyClassifier(strategy=\"most_frequent\")\n",
    "dummy_polarity = DummyClassifier(strategy=\"most_frequent\")\n",
    "dummy_rating_str = DummyClassifier(strategy=\"most_frequent\")"
   ]
  },
  {
   "cell_type": "markdown",
   "metadata": {},
   "source": [
    "#### Fitting Dummy classifier with training data"
   ]
  },
  {
   "cell_type": "code",
   "execution_count": 3,
   "metadata": {},
   "outputs": [
    {
     "data": {
      "text/plain": [
       "DummyClassifier(strategy='most_frequent')"
      ]
     },
     "execution_count": 3,
     "metadata": {},
     "output_type": "execute_result"
    }
   ],
   "source": [
    "# print(ds.training, ds.training.dtypes)\n",
    "dummy_domain.fit(ds.training[\"review_text\"], ds.training[\"domain\"])\n",
    "dummy_polarity.fit(ds.training[\"review_text\"], ds.training[\"polarity\"])\n",
    "dummy_rating_str.fit(ds.training[\"review_text\"], ds.training[\"rating_str\"].astype(str))  # column seems to automatically reconvert to float if not forced in str"
   ]
  },
  {
   "cell_type": "markdown",
   "metadata": {},
   "source": [
    "#### Predictions and scores with Dummy classifier"
   ]
  },
  {
   "cell_type": "code",
   "execution_count": 4,
   "metadata": {},
   "outputs": [
    {
     "name": "stdout",
     "output_type": "stream",
     "text": [
      "['books' 'books' 'books' ... 'books' 'books' 'books']\n",
      "['negative' 'negative' 'negative' ... 'negative' 'negative' 'negative']\n",
      "['5.0' '5.0' '5.0' ... '5.0' '5.0' '5.0']\n"
     ]
    }
   ],
   "source": [
    "print(dummy_domain.predict(ds.testing[\"review_text\"]))\n",
    "print(dummy_polarity.predict(ds.testing[\"review_text\"]))\n",
    "print(dummy_rating_str.predict(ds.testing[\"review_text\"]))"
   ]
  },
  {
   "cell_type": "code",
   "execution_count": 5,
   "metadata": {},
   "outputs": [
    {
     "name": "stdout",
     "output_type": "stream",
     "text": [
      "0.25\n",
      "0.491875\n",
      "0.355625\n"
     ]
    }
   ],
   "source": [
    "print(dummy_domain.score(ds.testing[\"review_text\"], ds.testing[\"domain\"]))\n",
    "print(dummy_polarity.score(ds.testing[\"review_text\"], ds.testing[\"polarity\"]))\n",
    "print(dummy_rating_str.score(ds.testing[\"review_text\"], ds.testing[\"rating_str\"].astype(str)))"
   ]
  },
  {
   "cell_type": "markdown",
   "metadata": {},
   "source": [
    "### 3. Example of Vectorizer"
   ]
  },
  {
   "cell_type": "code",
   "execution_count": 6,
   "metadata": {},
   "outputs": [
    {
     "name": "stdout",
     "output_type": "stream",
     "text": [
      "(6400, 35746)\n",
      "[[0. 0. 0. ... 0. 0. 0.]\n",
      " [0. 0. 0. ... 0. 0. 0.]\n",
      " [0. 0. 0. ... 0. 0. 0.]\n",
      " ...\n",
      " [0. 0. 0. ... 0. 0. 0.]\n",
      " [0. 0. 0. ... 0. 0. 0.]\n",
      " [0. 0. 0. ... 0. 0. 0.]]\n",
      "{'analyzer': 'word', 'binary': False, 'decode_error': 'strict', 'dtype': <class 'numpy.float64'>, 'encoding': 'utf-8', 'input': 'content', 'lowercase': True, 'max_df': 1.0, 'max_features': None, 'min_df': 1, 'ngram_range': (1, 1), 'norm': 'l2', 'preprocessor': None, 'smooth_idf': True, 'stop_words': None, 'strip_accents': None, 'sublinear_tf': False, 'token_pattern': '(?u)\\\\b\\\\w\\\\w+\\\\b', 'tokenizer': None, 'use_idf': True, 'vocabulary': None}\n",
      "None\n",
      "(1600, 35746)\n",
      "  (0, 35591)\t0.03143669515410361\n",
      "  (0, 35579)\t0.06379402676108903\n",
      "  (0, 35303)\t0.028110303827570803\n",
      "  (0, 35215)\t0.17384506579328912\n",
      "  (0, 35191)\t0.0951521577406846\n",
      "  (0, 34994)\t0.08852015085002475\n",
      "  (0, 34935)\t0.0418744783840047\n",
      "  (0, 34848)\t0.041657179861954\n",
      "  (0, 34843)\t0.05495462390337357\n",
      "  (0, 34820)\t0.028843204434110974\n",
      "  (0, 34564)\t0.04346175680449566\n",
      "  (0, 34502)\t0.07077320528101216\n",
      "  (0, 34197)\t0.4037917844611215\n",
      "  (0, 34196)\t0.09287328230746418\n",
      "  (0, 33663)\t0.02831395452427155\n",
      "  (0, 33360)\t0.05405550750699858\n",
      "  (0, 33233)\t0.05070421923268516\n",
      "  (0, 32991)\t0.06604982974750938\n",
      "  (0, 32710)\t0.06241089037860039\n",
      "  (0, 32285)\t0.051074068627468695\n",
      "  (0, 32259)\t0.16959723699929596\n",
      "  (0, 32187)\t0.11320700291212134\n",
      "  (0, 32111)\t0.08902960349105281\n",
      "  (0, 31969)\t0.08670735831002509\n",
      "  (0, 31942)\t0.1182878743590076\n",
      "  :\t:\n",
      "  (1599, 30303)\t0.14597354609768268\n",
      "  (1599, 28063)\t0.24651979563633272\n",
      "  (1599, 23878)\t0.1758402032264931\n",
      "  (1599, 23396)\t0.13009837743253724\n",
      "  (1599, 22518)\t0.08103252797521358\n",
      "  (1599, 22266)\t0.062051044497847124\n",
      "  (1599, 22138)\t0.08188703719951182\n",
      "  (1599, 21624)\t0.11932120386907875\n",
      "  (1599, 21199)\t0.059368238275759676\n",
      "  (1599, 20854)\t0.0750346880074918\n",
      "  (1599, 17139)\t0.07915601982251753\n",
      "  (1599, 17084)\t0.0832240145012426\n",
      "  (1599, 16128)\t0.045622254948163105\n",
      "  (1599, 15379)\t0.17237337266768457\n",
      "  (1599, 12892)\t0.0462027357308882\n",
      "  (1599, 12465)\t0.10290844782396619\n",
      "  (1599, 9576)\t0.18491094582438536\n",
      "  (1599, 9575)\t0.3757161514900208\n",
      "  (1599, 7682)\t0.09442444206183541\n",
      "  (1599, 5018)\t0.5966609573632454\n",
      "  (1599, 4068)\t0.24651979563633272\n",
      "  (1599, 2895)\t0.1842160523091337\n",
      "  (1599, 2691)\t0.174809392437773\n",
      "  (1599, 2116)\t0.03556749132229489\n",
      "  (1599, 1826)\t0.06493082607708216\n"
     ]
    }
   ],
   "source": [
    "from sklearn.feature_extraction.text import TfidfVectorizer, CountVectorizer  # CountVectorizer will be used later\n",
    "\n",
    "vectorizer = TfidfVectorizer(lowercase=True, analyzer=\"word\")\n",
    "X_training = vectorizer.fit_transform(ds.training[\"review_text\"])\n",
    "print(X_training.shape)\n",
    "print(X_training.toarray())\n",
    "print(vectorizer.get_params(), vectorizer.get_stop_words(), sep='\\n')\n",
    "X_testing = vectorizer.transform(ds.testing[\"review_text\"])\n",
    "print(X_testing.shape)\n",
    "print(X_testing)"
   ]
  },
  {
   "cell_type": "markdown",
   "metadata": {},
   "source": [
    "### 4. Example of Perceptron Classifier"
   ]
  },
  {
   "cell_type": "code",
   "execution_count": 7,
   "metadata": {},
   "outputs": [
    {
     "data": {
      "text/plain": [
       "0.789375"
      ]
     },
     "execution_count": 7,
     "metadata": {},
     "output_type": "execute_result"
    }
   ],
   "source": [
    "from sklearn.linear_model import Perceptron\n",
    "\n",
    "perceptron = Perceptron(shuffle=False)\n",
    "perceptron.fit(X_training, ds.training[\"polarity\"])\n",
    "perceptron.score(X_testing, ds.testing[\"polarity\"])"
   ]
  },
  {
   "cell_type": "markdown",
   "metadata": {},
   "source": [
    "### 5. Preprocessing experiments\n",
    "\n",
    "We are going to use 2 different vectorizer types: TF-IDF and Count.  \n",
    "N-grams will be word based (= whitespace separated).  \n",
    "We are going to try different n-grams lengths: 1 to 3.  "
   ]
  },
  {
   "cell_type": "code",
   "execution_count": 8,
   "metadata": {},
   "outputs": [],
   "source": [
    "tfidf_unigram_vectorizer = TfidfVectorizer(lowercase=True, analyzer=\"word\", ngram_range=(1, 1))\n",
    "tfidf_bigram_vectorizer = TfidfVectorizer(lowercase=True, analyzer=\"word\", ngram_range=(2, 2))\n",
    "tfidf_trigram_vectorizer = TfidfVectorizer(lowercase=True, analyzer=\"word\", ngram_range=(3, 3))\n",
    "\n",
    "count_unigram_vectorizer = CountVectorizer(lowercase=True, analyzer=\"word\", ngram_range=(1, 1))\n",
    "count_bigram_vectorizer = CountVectorizer(lowercase=True, analyzer=\"word\", ngram_range=(2, 2))\n",
    "count_trigram_vectorizer = CountVectorizer(lowercase=True, analyzer=\"word\", ngram_range=(3, 3))"
   ]
  },
  {
   "cell_type": "code",
   "execution_count": 9,
   "metadata": {},
   "outputs": [],
   "source": [
    "from copy import deepcopy\n",
    "\n",
    "base_perceptron = Perceptron()\n",
    "tfidf_unigram_perceptron = deepcopy(base_perceptron)  # deepcopying avoids having to copy parameters between multiple initializations\n",
    "tfidf_bigram_perceptron = deepcopy(base_perceptron)\n",
    "tfidf_trigram_perceptron = deepcopy(base_perceptron)\n",
    "count_unigram_perceptron = deepcopy(base_perceptron)\n",
    "count_bigram_perceptron = deepcopy(base_perceptron)\n",
    "count_trigram_perceptron = deepcopy(base_perceptron)"
   ]
  },
  {
   "cell_type": "code",
   "execution_count": 10,
   "metadata": {},
   "outputs": [],
   "source": [
    "X_training_tfidf_unigram = tfidf_unigram_vectorizer.fit_transform(ds.training[\"review_text\"], ds.training[\"polarity\"])\n",
    "X_testing_tfidf_unigram = tfidf_unigram_vectorizer.transform(ds.testing[\"review_text\"])\n",
    "X_training_tfidf_bigram = tfidf_bigram_vectorizer.fit_transform(ds.training[\"review_text\"], ds.training[\"polarity\"])\n",
    "X_testing_tfidf_bigram = tfidf_bigram_vectorizer.transform(ds.testing[\"review_text\"])\n",
    "X_training_tfidf_trigram = tfidf_trigram_vectorizer.fit_transform(ds.training[\"review_text\"], ds.training[\"polarity\"])\n",
    "X_testing_tfidf_trigram = tfidf_trigram_vectorizer.transform(ds.testing[\"review_text\"])\n",
    "\n",
    "X_training_count_unigram = count_unigram_vectorizer.fit_transform(ds.training[\"review_text\"], ds.training[\"polarity\"])\n",
    "X_testing_count_unigram = count_unigram_vectorizer.transform(ds.testing[\"review_text\"])\n",
    "X_training_count_bigram = count_bigram_vectorizer.fit_transform(ds.training[\"review_text\"], ds.training[\"polarity\"])\n",
    "X_testing_count_bigram = count_bigram_vectorizer.transform(ds.testing[\"review_text\"])\n",
    "X_training_count_trigram = count_trigram_vectorizer.fit_transform(ds.training[\"review_text\"], ds.training[\"polarity\"])\n",
    "X_testing_count_trigram = count_trigram_vectorizer.transform(ds.testing[\"review_text\"])"
   ]
  },
  {
   "cell_type": "code",
   "execution_count": 11,
   "metadata": {},
   "outputs": [
    {
     "data": {
      "text/plain": [
       "Perceptron()"
      ]
     },
     "execution_count": 11,
     "metadata": {},
     "output_type": "execute_result"
    }
   ],
   "source": [
    "tfidf_unigram_perceptron.fit(X_training_tfidf_unigram, ds.training[\"polarity\"])\n",
    "tfidf_bigram_perceptron.fit(X_training_tfidf_bigram, ds.training[\"polarity\"])\n",
    "tfidf_trigram_perceptron.fit(X_training_tfidf_trigram, ds.training[\"polarity\"])\n",
    "\n",
    "count_unigram_perceptron.fit(X_training_count_unigram, ds.training[\"polarity\"])\n",
    "count_bigram_perceptron.fit(X_training_count_bigram, ds.training[\"polarity\"])\n",
    "count_trigram_perceptron.fit(X_training_count_trigram, ds.training[\"polarity\"])"
   ]
  },
  {
   "cell_type": "code",
   "execution_count": 12,
   "metadata": {},
   "outputs": [
    {
     "name": "stdout",
     "output_type": "stream",
     "text": [
      "Macro average values:\n",
      "\tTFIDF vectorizer:\n",
      "\t\tUnigrams:\n",
      "\t\t\tPrecision: 0.793040078\tRecall: 0.792831232\tF-Score: 0.792488327\n",
      "\t\tBigrams: \n",
      "\t\t\tPrecision: 0.796378917\tRecall: 0.796419680\tF-Score: 0.796248727\n",
      "\t\tTrigrams:\n",
      "\t\t\tPrecision: 0.731622884\tRecall: 0.731524418\tF-Score: 0.731243281\n",
      "\n",
      "\tCounter vectorizer:\n",
      "\t\tUnigrams:\n",
      "\t\t\tPrecision: 0.796292727\tRecall: 0.795514753\tF-Score: 0.794927904\n",
      "\t\tBigrams: \n",
      "\t\t\tPrecision: 0.797490309\tRecall: 0.797568420\tF-Score: 0.797484495\n",
      "\t\tTrigrams:\n",
      "\t\t\tPrecision: 0.716715543\tRecall: 0.716561092\tF-Score: 0.716234038\n"
     ]
    },
    {
     "data": {
      "text/plain": [
       "(0.7167155425219941, 0.7165610919133334, 0.7162340381646467, None)"
      ]
     },
     "execution_count": 12,
     "metadata": {},
     "output_type": "execute_result"
    }
   ],
   "source": [
    "from sklearn.metrics import precision_recall_fscore_support\n",
    "\n",
    "s = \"\\t\\t\\tPrecision: {0:.9f}\\tRecall: {1:.9f}\\tF-Score: {2:.9f}\"\n",
    "\n",
    "\n",
    "def print_values(true_y, predicted_y, avg=\"macro\"):\n",
    "    values = precision_recall_fscore_support(true_y, predicted_y, average=avg)\n",
    "    print(s.format(*values))\n",
    "    return values\n",
    "\n",
    "\n",
    "print(\"Macro average values:\")\n",
    "\n",
    "print(\"\\tTFIDF vectorizer:\")\n",
    "print(\"\\t\\tUnigrams:\")\n",
    "print_values(ds.testing[\"polarity\"], tfidf_unigram_perceptron.predict(X_testing_tfidf_unigram))\n",
    "print(\"\\t\\tBigrams: \")\n",
    "print_values(ds.testing[\"polarity\"], tfidf_bigram_perceptron.predict(X_testing_tfidf_bigram))\n",
    "print(\"\\t\\tTrigrams:\")\n",
    "print_values(ds.testing[\"polarity\"], tfidf_trigram_perceptron.predict(X_testing_tfidf_trigram))\n",
    "print()\n",
    "print(\"\\tCounter vectorizer:\")\n",
    "print(\"\\t\\tUnigrams:\")\n",
    "print_values(ds.testing[\"polarity\"], count_unigram_perceptron.predict(X_testing_count_unigram))\n",
    "print(\"\\t\\tBigrams: \")\n",
    "print_values(ds.testing[\"polarity\"], count_bigram_perceptron.predict(X_testing_count_bigram))\n",
    "print(\"\\t\\tTrigrams:\")\n",
    "print_values(ds.testing[\"polarity\"], count_trigram_perceptron.predict(X_testing_count_trigram))"
   ]
  },
  {
   "cell_type": "markdown",
   "metadata": {},
   "source": [
    "It seems that both vectorizer types have similar behaviors. Trigrams are clearly less accurate than unigrams or bigrams, but the difference between those last two is much thinner.  \n",
    "Apparently, bigrams work better than unigrams, although the delta is less than 1 or 2% in each vectorizer."
   ]
  },
  {
   "cell_type": "markdown",
   "metadata": {},
   "source": [
    "### 6. Perceptron"
   ]
  },
  {
   "cell_type": "code",
   "execution_count": 27,
   "metadata": {},
   "outputs": [],
   "source": [
    "def perceptron_calc(domain, it=1000):\n",
    "    vec = TfidfVectorizer(lowercase=True, analyzer=\"word\")\n",
    "    training = vec.fit_transform(ds.training_by_domain[domain][\"review_text\"])\n",
    "    testing = vec.transform(ds.testing_by_domain[domain]['review_text'])\n",
    "    percep = Perceptron(shuffle=False, max_iter=it)\n",
    "    percep.fit(training, ds.training_by_domain[domain][\"polarity\"])\n",
    "    percep.score(testing, ds.testing_by_domain[domain][\"polarity\"])\n",
    "    print(s.format(*precision_recall_fscore_support(ds.testing_by_domain[domain][\"polarity\"], percep.predict(testing), average=\"macro\")))"
   ]
  },
  {
   "cell_type": "code",
   "execution_count": 28,
   "metadata": {},
   "outputs": [
    {
     "name": "stdout",
     "output_type": "stream",
     "text": [
      "\t\t\tPrecision: 0.780078008\tRecall: 0.780078008\tF-Score: 0.780000000\n",
      "\t\t\tPrecision: 0.780078008\tRecall: 0.780078008\tF-Score: 0.780000000\n",
      "\t\t\tPrecision: 0.780078008\tRecall: 0.780078008\tF-Score: 0.780000000\n",
      "\t\t\tPrecision: 0.780078008\tRecall: 0.780078008\tF-Score: 0.780000000\n",
      "\t\t\tPrecision: 0.780078008\tRecall: 0.780078008\tF-Score: 0.780000000\n",
      "\t\t\tPrecision: 0.780078008\tRecall: 0.780078008\tF-Score: 0.780000000\n",
      "\t\t\tPrecision: 0.780078008\tRecall: 0.780078008\tF-Score: 0.780000000\n",
      "\t\t\tPrecision: 0.780078008\tRecall: 0.780078008\tF-Score: 0.780000000\n"
     ]
    }
   ],
   "source": [
    "perceptron_calc('books', 100)\n",
    "perceptron_calc('books', 1000)\n",
    "perceptron_calc('books', 10000)\n",
    "perceptron_calc('books', 100000)\n",
    "perceptron_calc('books', 1000000)\n",
    "perceptron_calc('books', 10000000)\n",
    "perceptron_calc('books', 100000000)\n",
    "perceptron_calc('books', 1000000000)"
   ]
  },
  {
   "cell_type": "code",
   "execution_count": 15,
   "metadata": {},
   "outputs": [
    {
     "name": "stdout",
     "output_type": "stream",
     "text": [
      "\t\t\tPrecision: 0.789199829\tRecall: 0.788584726\tF-Score: 0.787466792\n",
      "\t\t\tPrecision: 0.753704957\tRecall: 0.754368322\tF-Score: 0.753960483\n",
      "\t\t\tPrecision: 0.824561404\tRecall: 0.824561404\tF-Score: 0.824561404\n"
     ]
    }
   ],
   "source": [
    "perceptron_calc('dvd')\n",
    "perceptron_calc('electronics')\n",
    "perceptron_calc('kitchen & housewares')"
   ]
  },
  {
   "cell_type": "markdown",
   "metadata": {},
   "source": [
    "### 7. K-nearest neighbours"
   ]
  },
  {
   "cell_type": "markdown",
   "metadata": {
    "collapsed": false
   },
   "source": [
    "### Perceptron"
   ]
  },
  {
   "cell_type": "code",
   "execution_count": 16,
   "metadata": {},
   "outputs": [
    {
     "name": "stdout",
     "output_type": "stream",
     "text": [
      "Number of neighbours: 5\n",
      "\t\t\tPrecision: 0.880101539\tRecall: 0.877500000\tF-Score: 0.877310603\n",
      "Number of neighbours: 10\n",
      "\t\t\tPrecision: 0.901752659\tRecall: 0.900625000\tF-Score: 0.900639511\n",
      "Number of neighbours: 15\n",
      "\t\t\tPrecision: 0.907536787\tRecall: 0.905625000\tF-Score: 0.905580826\n",
      "Number of neighbours: 20\n",
      "\t\t\tPrecision: 0.914367589\tRecall: 0.912500000\tF-Score: 0.912504953\n",
      "Number of neighbours: 25\n",
      "\t\t\tPrecision: 0.913590703\tRecall: 0.911875000\tF-Score: 0.911920810\n",
      "Number of neighbours: 30\n",
      "\t\t\tPrecision: 0.914197745\tRecall: 0.912500000\tF-Score: 0.912512600\n",
      "Number of neighbours: 35\n",
      "\t\t\tPrecision: 0.915026251\tRecall: 0.913125000\tF-Score: 0.913203938\n",
      "Number of neighbours: 40\n",
      "\t\t\tPrecision: 0.910865929\tRecall: 0.908750000\tF-Score: 0.908829062\n",
      "Number of neighbours: 45\n",
      "\t\t\tPrecision: 0.914599471\tRecall: 0.911875000\tF-Score: 0.912022847\n",
      "Number of neighbours: 50\n",
      "\t\t\tPrecision: 0.915398212\tRecall: 0.911875000\tF-Score: 0.911954631\n",
      "Number of neighbours: 55\n",
      "\t\t\tPrecision: 0.918021566\tRecall: 0.914375000\tF-Score: 0.914511910\n",
      "Number of neighbours: 60\n",
      "\t\t\tPrecision: 0.917923193\tRecall: 0.914375000\tF-Score: 0.914468666\n",
      "Number of neighbours: 65\n",
      "\t\t\tPrecision: 0.921654624\tRecall: 0.918125000\tF-Score: 0.918127925\n",
      "Number of neighbours: 70\n",
      "\t\t\tPrecision: 0.919405412\tRecall: 0.915625000\tF-Score: 0.915719691\n",
      "Number of neighbours: 75\n",
      "\t\t\tPrecision: 0.918377289\tRecall: 0.915000000\tF-Score: 0.914946281\n",
      "Number of neighbours: 80\n",
      "\t\t\tPrecision: 0.918437711\tRecall: 0.915000000\tF-Score: 0.914993034\n",
      "Number of neighbours: 85\n",
      "\t\t\tPrecision: 0.919926610\tRecall: 0.916875000\tF-Score: 0.916871763\n",
      "Number of neighbours: 90\n",
      "\t\t\tPrecision: 0.915724311\tRecall: 0.911875000\tF-Score: 0.911958836\n",
      "Number of neighbours: 95\n",
      "\t\t\tPrecision: 0.915749980\tRecall: 0.912500000\tF-Score: 0.912453325\n",
      "Number of neighbours: 100\n",
      "\t\t\tPrecision: 0.917121261\tRecall: 0.914375000\tF-Score: 0.914270938\n",
      "Number of neighbours: 105\n",
      "\t\t\tPrecision: 0.919745000\tRecall: 0.916875000\tF-Score: 0.916810411\n",
      "Number of neighbours: 110\n",
      "\t\t\tPrecision: 0.921071610\tRecall: 0.917500000\tF-Score: 0.917417663\n",
      "Number of neighbours: 115\n",
      "\t\t\tPrecision: 0.918743709\tRecall: 0.915000000\tF-Score: 0.914958796\n",
      "Number of neighbours: 120\n",
      "\t\t\tPrecision: 0.920612757\tRecall: 0.916875000\tF-Score: 0.916735568\n",
      "Number of neighbours: 125\n",
      "\t\t\tPrecision: 0.920320345\tRecall: 0.916875000\tF-Score: 0.916720910\n",
      "Number of neighbours: 130\n",
      "\t\t\tPrecision: 0.918189081\tRecall: 0.914375000\tF-Score: 0.914323414\n",
      "Number of neighbours: 135\n",
      "\t\t\tPrecision: 0.919083703\tRecall: 0.915000000\tF-Score: 0.914935264\n",
      "Number of neighbours: 140\n",
      "\t\t\tPrecision: 0.918172011\tRecall: 0.914375000\tF-Score: 0.914303435\n",
      "Number of neighbours: 145\n",
      "\t\t\tPrecision: 0.919668382\tRecall: 0.915625000\tF-Score: 0.915625270\n",
      "Number of neighbours: 150\n",
      "\t\t\tPrecision: 0.917672179\tRecall: 0.913750000\tF-Score: 0.913614300\n",
      "Number of neighbours: 155\n",
      "\t\t\tPrecision: 0.916913082\tRecall: 0.912500000\tF-Score: 0.912418674\n",
      "Number of neighbours: 160\n",
      "\t\t\tPrecision: 0.915415814\tRecall: 0.910625000\tF-Score: 0.910580801\n",
      "Number of neighbours: 165\n",
      "\t\t\tPrecision: 0.914791829\tRecall: 0.910000000\tF-Score: 0.909801644\n",
      "Number of neighbours: 170\n",
      "\t\t\tPrecision: 0.915436890\tRecall: 0.910625000\tF-Score: 0.910494292\n",
      "Number of neighbours: 175\n",
      "\t\t\tPrecision: 0.915831829\tRecall: 0.911250000\tF-Score: 0.911072725\n",
      "Number of neighbours: 180\n",
      "\t\t\tPrecision: 0.915050247\tRecall: 0.910625000\tF-Score: 0.910442752\n",
      "Number of neighbours: 185\n",
      "\t\t\tPrecision: 0.916143074\tRecall: 0.911250000\tF-Score: 0.911079336\n",
      "Number of neighbours: 190\n",
      "\t\t\tPrecision: 0.917964923\tRecall: 0.913750000\tF-Score: 0.913636171\n",
      "Number of neighbours: 195\n",
      "\t\t\tPrecision: 0.916383780\tRecall: 0.911875000\tF-Score: 0.911723994\n",
      "Number of neighbours: 250\n",
      "\t\t\tPrecision: 0.909416802\tRecall: 0.904375000\tF-Score: 0.904029921\n",
      "Number of neighbours: 300\n",
      "\t\t\tPrecision: 0.902356970\tRecall: 0.896250000\tF-Score: 0.895456778\n",
      "Number of neighbours: 350\n",
      "\t\t\tPrecision: 0.903408766\tRecall: 0.896875000\tF-Score: 0.895969926\n",
      "Number of neighbours: 400\n",
      "\t\t\tPrecision: 0.899467150\tRecall: 0.891875000\tF-Score: 0.890970059\n",
      "Number of neighbours: 450\n",
      "\t\t\tPrecision: 0.893959393\tRecall: 0.885625000\tF-Score: 0.884747152\n",
      "Number of neighbours: 500\n",
      "\t\t\tPrecision: 0.887658460\tRecall: 0.876875000\tF-Score: 0.875885285\n",
      "Number of neighbours: 1000\n",
      "\t\t\tPrecision: 0.866533701\tRecall: 0.846250000\tF-Score: 0.844445287\n",
      "Number of neighbours: 1500\n",
      "\t\t\tPrecision: 0.833399763\tRecall: 0.797500000\tF-Score: 0.793816042\n",
      "Number of neighbours: 2000\n",
      "\t\t\tPrecision: 0.810439094\tRecall: 0.761250000\tF-Score: 0.754681357\n",
      "Number of neighbours: 2500\n",
      "\t\t\tPrecision: 0.793307529\tRecall: 0.730625000\tF-Score: 0.720731328\n"
     ]
    },
    {
     "data": {
      "image/png": "[encoded data removed]",
      "text/plain": [
       "<Figure size 720x720 with 1 Axes>"
      ]
     },
     "metadata": {
      "needs_background": "light"
     },
     "output_type": "display_data"
    }
   ],
   "source": [
    "from sklearn.neighbors import KNeighborsClassifier\n",
    "from sklearn.metrics import confusion_matrix\n",
    "import matplotlib.pyplot as plt\n",
    "\n",
    "plt.rcParams[\"figure.figsize\"] = (10,10)\n",
    "\n",
    "def print_values_for_n_neighbors(n, matrix=False):\n",
    "    training = ds.training.sample(frac=1, random_state=9)\n",
    "    testing = ds.testing.sample(frac=1, random_state=9)\n",
    "    kneighbors = KNeighborsClassifier(n_neighbors=n)\n",
    "    vectorizer = TfidfVectorizer()\n",
    "    X_training = vectorizer.fit_transform(training[\"review_text\"], training[\"domain\"])\n",
    "    X_testing = vectorizer.transform(testing[\"review_text\"])\n",
    "    kneighbors.fit(X_training, training[\"domain\"])\n",
    "    if not matrix:\n",
    "        return print_values(testing[\"domain\"], kneighbors.predict(X_testing))\n",
    "    else:\n",
    "        print_values(testing[\"domain\"], kneighbors.predict(X_testing))\n",
    "        return confusion_matrix(testing[\"domain\"], kneighbors.predict(X_testing), labels=testing[\"domain\"].unique())\n",
    "\n",
    "best_values = [0, 0, 0, None]\n",
    "best_n = 0\n",
    "\n",
    "def run_multiple_n_neighbors(range_: range):\n",
    "    global best_values, best_n\n",
    "    f_scores = []\n",
    "    for i in range_:\n",
    "        print(\"Number of neighbours:\", i)\n",
    "        values = print_values_for_n_neighbors(i)\n",
    "        f_scores.append(values[2])\n",
    "        if values[2] > best_values[2]:\n",
    "            best_values = values\n",
    "            best_n = i\n",
    "    plt.plot(range_, f_scores)\n",
    "\n",
    "run_multiple_n_neighbors(range(5, 200, 5))\n",
    "run_multiple_n_neighbors(range(250, 500, 50))\n",
    "run_multiple_n_neighbors(range(500, 3000, 500))\n",
    "plt.show()"
   ]
  },
  {
   "cell_type": "markdown",
   "metadata": {},
   "source": [
    "From the plot outputted here, we can see that the best range for the number of neighbors is between 10 and 200.\n",
    "Hereunder are the best results during this run:"
   ]
  },
  {
   "cell_type": "code",
   "execution_count": 17,
   "metadata": {},
   "outputs": [
    {
     "name": "stdout",
     "output_type": "stream",
     "text": [
      "\n",
      "Best number of neighbors: 65\n",
      "Best values:\n",
      " (0.921654624314152, 0.9181250000000001, 0.9181279246186587, None)\n"
     ]
    }
   ],
   "source": [
    "print(\"\\nBest number of neighbors:\", best_n)\n",
    "print(\"Best values:\\n\", best_values)"
   ]
  },
  {
   "cell_type": "code",
   "execution_count": 18,
   "metadata": {},
   "outputs": [
    {
     "name": "stdout",
     "output_type": "stream",
     "text": [
      "Macro averages for K-Neigbours classifier with K = 65\n",
      "\t\t\tPrecision: 0.921654624\tRecall: 0.918125000\tF-Score: 0.918127925\n",
      "Confusion matrix of K-Neighbours with K = 65\n"
     ]
    },
    {
     "data": {
      "image/png": "[encoded data removed]",
      "text/plain": [
       "<Figure size 1080x216 with 1 Axes>"
      ]
     },
     "metadata": {
      "needs_background": "light"
     },
     "output_type": "display_data"
    }
   ],
   "source": [
    "training = ds.training.sample(frac=1, random_state=9)\n",
    "testing = ds.testing.sample(frac=1, random_state=9)\n",
    "kneighbors = KNeighborsClassifier(n_neighbors=best_n)\n",
    "vectorizer = TfidfVectorizer()\n",
    "X_training = vectorizer.fit_transform(training[\"review_text\"], training[\"domain\"])\n",
    "X_testing = vectorizer.transform(testing[\"review_text\"])\n",
    "kneighbors.fit(X_training, training[\"domain\"])\n",
    "print(\"Macro averages for K-Neigbours classifier with K =\", best_n)\n",
    "matrix = print_values_for_n_neighbors(65, matrix=True)\n",
    "\n",
    "\n",
    "fig, ax = plt.subplots()\n",
    "fig.set_size_inches(15, 3)\n",
    "# hide axes\n",
    "fig.patch.set_visible(False)\n",
    "ax.axis('off')\n",
    "ax.axis('tight')\n",
    "\n",
    "ax.table(matrix, loc=\"center\", colLabels=testing[\"domain\"].unique(), rowLabels=testing[\"domain\"].unique(), colLoc=\"center\")\n",
    "fig.tight_layout()\n",
    "print(\"Confusion matrix of K-Neighbours with K =\", best_n)\n",
    "plt.show()"
   ]
  },
  {
   "cell_type": "markdown",
   "metadata": {
    "collapsed": false,
    "pycharm": {
     "name": "#%% md\n"
    }
   },
   "source": [
    "### Naive Bayes"
   ]
  },
  {
   "cell_type": "code",
   "execution_count": 19,
   "metadata": {
    "collapsed": false,
    "pycharm": {
     "name": "#%%\n"
    }
   },
   "outputs": [
    {
     "name": "stdout",
     "output_type": "stream",
     "text": [
      "[5. 5. 5. ... 5. 5. 5.]\n",
      "\t\t\tPrecision: 0.542655659\tRecall: 0.358873056\tF-Score: 0.293286772\n"
     ]
    },
    {
     "name": "stderr",
     "output_type": "stream",
     "text": [
      "C:\\Users\\matth\\AppData\\Roaming\\Python\\Python39\\site-packages\\sklearn\\metrics\\_classification.py:1308: UndefinedMetricWarning: Precision and F-score are ill-defined and being set to 0.0 in labels with no predicted samples. Use `zero_division` parameter to control this behavior.\n",
      "  _warn_prf(average, modifier, msg_start, len(result))\n"
     ]
    },
    {
     "data": {
      "text/plain": [
       "(0.54265565875473, 0.3588730563548499, 0.2932867718286401, None)"
      ]
     },
     "execution_count": 19,
     "metadata": {},
     "output_type": "execute_result"
    }
   ],
   "source": [
    "from sklearn.naive_bayes import MultinomialNB\n",
    "vec_nb = TfidfVectorizer(lowercase=True, analyzer=\"word\")\n",
    "X_training = vec_nb.fit_transform(ds.training['review_text'])\n",
    "X_testing = vec_nb.transform(ds.testing['review_text'])\n",
    "\n",
    "gnb = MultinomialNB()\n",
    "# print(X_training.shape, ds.training[\"rating\"].shape)\n",
    "gnb.fit(X_training, ds.training[\"rating\"])\n",
    "pred = gnb.predict(X_testing)\n",
    "print(pred)\n",
    "print_values(ds.testing[\"rating\"], pred)\n"
   ]
  },
  {
   "cell_type": "markdown",
   "metadata": {
    "collapsed": false,
    "pycharm": {
     "name": "#%% md\n"
    }
   },
   "source": [
    "### Decision Trees"
   ]
  },
  {
   "cell_type": "code",
   "execution_count": 20,
   "metadata": {
    "collapsed": false,
    "pycharm": {
     "name": "#%%\n"
    }
   },
   "outputs": [
    {
     "name": "stdout",
     "output_type": "stream",
     "text": [
      "\t\t\tPrecision: 0.695347888\tRecall: 0.695264843\tF-Score: 0.694992375\n"
     ]
    }
   ],
   "source": [
    "from sklearn import tree\n",
    "vec_dt = TfidfVectorizer(lowercase=True, analyzer=\"word\", stop_words=\"english\")\n",
    "training_dt = vec_dt.fit_transform(ds.training[\"review_text\"])\n",
    "testing_dt = vec_dt.transform(ds.testing[\"review_text\"])\n",
    "clf = tree.DecisionTreeClassifier()\n",
    "clf.fit(training_dt, ds.training[\"polarity\"]).score(testing_dt, ds.testing[\"polarity\"])\n",
    "print(s.format(*precision_recall_fscore_support(ds.testing[\"polarity\"], clf.predict(testing_dt), average=\"macro\")))"
   ]
  },
  {
   "cell_type": "markdown",
   "metadata": {
    "collapsed": false
   },
   "source": [
    "- max_depth: number of tree's nodes the higher the value, the higher and closer values are\n",
    "    - the higher the value, the higher and closer values are\n",
    "-"
   ]
  },
  {
   "cell_type": "markdown",
   "metadata": {
    "collapsed": false,
    "pycharm": {
     "name": "#%% md\n"
    }
   },
   "source": [
    "### Support Vector Machines"
   ]
  },
  {
   "cell_type": "markdown",
   "metadata": {
    "collapsed": false,
    "pycharm": {
     "name": "#%% md\n"
    }
   },
   "source": [
    "#### Linear"
   ]
  },
  {
   "cell_type": "code",
   "execution_count": 21,
   "metadata": {
    "collapsed": false,
    "pycharm": {
     "name": "#%%\n"
    }
   },
   "outputs": [
    {
     "name": "stdout",
     "output_type": "stream",
     "text": [
      "\t\t\tPrecision: 0.809967313\tRecall: 0.809909179\tF-Score: 0.809933180\n"
     ]
    }
   ],
   "source": [
    "from sklearn import svm\n",
    "vec_svm = TfidfVectorizer(lowercase=True, analyzer=\"word\", stop_words=\"english\")\n",
    "training_svm = vec_svm.fit_transform(ds.training[\"review_text\"])\n",
    "testing_svm = vec_svm.transform(ds.testing[\"review_text\"])\n",
    "clf = svm.SVC(kernel=\"linear\")\n",
    "clf.fit(training_svm, ds.training[\"polarity\"])\n",
    "clf.score(testing_svm, ds.testing[\"polarity\"])\n",
    "print(s.format(*precision_recall_fscore_support(ds.testing[\"polarity\"], clf.predict(testing_svm), average=\"macro\")))\n"
   ]
  },
  {
   "cell_type": "markdown",
   "metadata": {
    "collapsed": false
   },
   "source": [
    "#### RBF"
   ]
  },
  {
   "cell_type": "code",
   "execution_count": 22,
   "metadata": {
    "collapsed": false,
    "pycharm": {
     "name": "#%%\n"
    }
   },
   "outputs": [
    {
     "name": "stdout",
     "output_type": "stream",
     "text": [
      "\t\t\tPrecision: 0.812562991\tRecall: 0.812633336\tF-Score: 0.812495312\n"
     ]
    }
   ],
   "source": [
    "from sklearn import svm\n",
    "vec_svm = TfidfVectorizer(lowercase=True, analyzer=\"word\")\n",
    "training_svm = vec_svm.fit_transform(ds.training[\"review_text\"])\n",
    "testing_svm = vec_svm.transform(ds.testing[\"review_text\"])\n",
    "clf = svm.SVC(kernel=\"rbf\")\n",
    "clf.fit(training_svm, ds.training[\"polarity\"])\n",
    "clf.score(testing_svm, ds.testing[\"polarity\"])\n",
    "print(s.format(*precision_recall_fscore_support(ds.testing[\"polarity\"], clf.predict(testing_svm), average=\"macro\")))"
   ]
  },
  {
   "cell_type": "markdown",
   "metadata": {
    "pycharm": {
     "name": "#%% md\n"
    }
   },
   "source": [
    "### Knowledge transfer\n",
    "\n"
   ]
  },
  {
   "cell_type": "code",
   "execution_count": 23,
   "metadata": {},
   "outputs": [
    {
     "name": "stdout",
     "output_type": "stream",
     "text": [
      "\n",
      "\n",
      "[trained] dvd\n",
      "=>[tested] dvd\n",
      "\t\t\tPrecision: 0.789199829\tRecall: 0.788584726\tF-Score: 0.787466792\n",
      "=>[tested] kitchen & housewares\n",
      "\t\t\tPrecision: 0.727936508\tRecall: 0.724937343\tF-Score: 0.725397575\n",
      "=>[tested] books\n",
      "\t\t\tPrecision: 0.706095907\tRecall: 0.693744374\tF-Score: 0.688195144\n",
      "=>[tested] electronics\n",
      "\t\t\tPrecision: 0.690909091\tRecall: 0.664990572\tF-Score: 0.641943734\n",
      "\n",
      "\n",
      "[trained] kitchen & housewares\n",
      "=>[tested] dvd\n",
      "\t\t\tPrecision: 0.682579564\tRecall: 0.682739466\tF-Score: 0.682450383\n",
      "=>[tested] kitchen & housewares\n",
      "\t\t\tPrecision: 0.824561404\tRecall: 0.824561404\tF-Score: 0.824561404\n",
      "=>[tested] books\n",
      "\t\t\tPrecision: 0.659413709\tRecall: 0.657990799\tF-Score: 0.656880240\n",
      "=>[tested] electronics\n",
      "\t\t\tPrecision: 0.752500000\tRecall: 0.753928347\tF-Score: 0.752151463\n",
      "\n",
      "\n",
      "[trained] books\n",
      "=>[tested] dvd\n",
      "\t\t\tPrecision: 0.757142857\tRecall: 0.744344910\tF-Score: 0.743327467\n",
      "=>[tested] kitchen & housewares\n",
      "\t\t\tPrecision: 0.699318910\tRecall: 0.699498747\tF-Score: 0.699391267\n",
      "=>[tested] books\n",
      "\t\t\tPrecision: 0.780078008\tRecall: 0.780078008\tF-Score: 0.780000000\n",
      "=>[tested] electronics\n",
      "\t\t\tPrecision: 0.682539683\tRecall: 0.680703960\tF-Score: 0.674796748\n",
      "\n",
      "\n",
      "[trained] electronics\n",
      "=>[tested] dvd\n",
      "\t\t\tPrecision: 0.699869987\tRecall: 0.700030027\tF-Score: 0.699879952\n",
      "=>[tested] kitchen & housewares\n",
      "\t\t\tPrecision: 0.783033262\tRecall: 0.778947368\tF-Score: 0.774639423\n",
      "=>[tested] books\n",
      "\t\t\tPrecision: 0.593821741\tRecall: 0.592984298\tF-Score: 0.591762621\n",
      "=>[tested] electronics\n",
      "\t\t\tPrecision: 0.753704957\tRecall: 0.754368322\tF-Score: 0.753960483\n"
     ]
    }
   ],
   "source": [
    "domain_list = ['dvd', 'kitchen & housewares', 'books', 'electronics']\n",
    "for domain in domain_list:\n",
    "    print(\"\\n\\n[trained]\", domain)\n",
    "    for d in domain_list:\n",
    "        vec = TfidfVectorizer(lowercase=True, analyzer=\"word\")\n",
    "        training = vec.fit_transform(ds.training_by_domain[domain][\"review_text\"])\n",
    "        testing = vec.transform(ds.testing_by_domain[d]['review_text'])\n",
    "        percep = Perceptron(shuffle=False)\n",
    "        percep.fit(training, ds.training_by_domain[domain][\"polarity\"])\n",
    "        percep.score(testing, ds.testing_by_domain[d][\"polarity\"])\n",
    "        print(\"=>[tested]\", d)\n",
    "        print(s.format(*precision_recall_fscore_support(ds.testing_by_domain[d][\"polarity\"], percep.predict(testing), average=\"macro\")))"
   ]
  },
  {
   "cell_type": "markdown",
   "metadata": {
    "collapsed": false,
    "pycharm": {
     "name": "#%% md\n"
    }
   },
   "source": [
    "### Domain-Oblivious\n",
    "\n"
   ]
  },
  {
   "cell_type": "code",
   "execution_count": 24,
   "metadata": {
    "collapsed": false,
    "pycharm": {
     "name": "#%%\n"
    }
   },
   "outputs": [
    {
     "name": "stdout",
     "output_type": "stream",
     "text": [
      "\n",
      "\n",
      "[trained] dvd\n",
      "=>[tested] dvd\n",
      "\t\t\tPrecision: 0.789199829\tRecall: 0.788584726\tF-Score: 0.787466792\n",
      "=>[tested] kitchen & housewares\n",
      "\t\t\tPrecision: 0.727936508\tRecall: 0.724937343\tF-Score: 0.725397575\n",
      "=>[tested] books\n",
      "\t\t\tPrecision: 0.706095907\tRecall: 0.693744374\tF-Score: 0.688195144\n",
      "=>[tested] electronics\n",
      "\t\t\tPrecision: 0.690909091\tRecall: 0.664990572\tF-Score: 0.641943734\n",
      "=>[tested] all\n",
      "\t\t\tPrecision: 0.725000000\tRecall: 0.716057053\tF-Score: 0.711943511\n",
      "\n",
      "\n",
      "[trained] kitchen & housewares\n",
      "=>[tested] dvd\n",
      "\t\t\tPrecision: 0.682579564\tRecall: 0.682739466\tF-Score: 0.682450383\n",
      "=>[tested] kitchen & housewares\n",
      "\t\t\tPrecision: 0.824561404\tRecall: 0.824561404\tF-Score: 0.824561404\n",
      "=>[tested] books\n",
      "\t\t\tPrecision: 0.659413709\tRecall: 0.657990799\tF-Score: 0.656880240\n",
      "=>[tested] electronics\n",
      "\t\t\tPrecision: 0.752500000\tRecall: 0.753928347\tF-Score: 0.752151463\n",
      "=>[tested] all\n",
      "\t\t\tPrecision: 0.730003129\tRecall: 0.729740353\tF-Score: 0.729344446\n",
      "\n",
      "\n",
      "[trained] books\n",
      "=>[tested] dvd\n",
      "\t\t\tPrecision: 0.757142857\tRecall: 0.744344910\tF-Score: 0.743327467\n",
      "=>[tested] kitchen & housewares\n",
      "\t\t\tPrecision: 0.699318910\tRecall: 0.699498747\tF-Score: 0.699391267\n",
      "=>[tested] books\n",
      "\t\t\tPrecision: 0.780078008\tRecall: 0.780078008\tF-Score: 0.780000000\n",
      "=>[tested] electronics\n",
      "\t\t\tPrecision: 0.682539683\tRecall: 0.680703960\tF-Score: 0.674796748\n",
      "=>[tested] all\n",
      "\t\t\tPrecision: 0.725558681\tRecall: 0.725583006\tF-Score: 0.725568291\n",
      "\n",
      "\n",
      "[trained] electronics\n",
      "=>[tested] dvd\n",
      "\t\t\tPrecision: 0.699869987\tRecall: 0.700030027\tF-Score: 0.699879952\n",
      "=>[tested] kitchen & housewares\n",
      "\t\t\tPrecision: 0.783033262\tRecall: 0.778947368\tF-Score: 0.774639423\n",
      "=>[tested] books\n",
      "\t\t\tPrecision: 0.593821741\tRecall: 0.592984298\tF-Score: 0.591762621\n",
      "=>[tested] electronics\n",
      "\t\t\tPrecision: 0.753704957\tRecall: 0.754368322\tF-Score: 0.753960483\n",
      "=>[tested] all\n",
      "\t\t\tPrecision: 0.705550344\tRecall: 0.705476134\tF-Score: 0.705499722\n",
      "\n",
      "\n",
      "[trained] all\n",
      "=>[tested] dvd\n",
      "\t\t\tPrecision: 0.799992234\tRecall: 0.789985987\tF-Score: 0.790074043\n",
      "=>[tested] kitchen & housewares\n",
      "\t\t\tPrecision: 0.822947663\tRecall: 0.823684211\tF-Score: 0.822445624\n",
      "=>[tested] books\n",
      "\t\t\tPrecision: 0.761559479\tRecall: 0.748924892\tF-Score: 0.746649439\n",
      "=>[tested] electronics\n",
      "\t\t\tPrecision: 0.793478261\tRecall: 0.788497800\tF-Score: 0.789840165\n",
      "=>[tested] all\n",
      "\t\t\tPrecision: 0.794191106\tRecall: 0.788293315\tF-Score: 0.788039566\n"
     ]
    }
   ],
   "source": [
    "domain_list = ['dvd', 'kitchen & housewares', 'books', 'electronics', 'all']\n",
    "for domain in domain_list:\n",
    "    print(\"\\n\\n[trained]\", domain)\n",
    "    for d in domain_list:\n",
    "        vec = TfidfVectorizer(lowercase=True, analyzer=\"word\")\n",
    "        training = vec.fit_transform(ds.training['review_text'] if domain == \"all\" else ds.training_by_domain[domain][\"review_text\"])\n",
    "        testing = vec.transform(ds.testing['review_text'] if d == 'all' else ds.testing_by_domain[d]['review_text'])\n",
    "        percep = Perceptron(shuffle=False)\n",
    "        percep.fit(training, ds.training['polarity'] if domain == 'all' else ds.training_by_domain[domain][\"polarity\"])\n",
    "        percep.score(testing, ds.testing['polarity'] if d == 'all' else ds.testing_by_domain[d]['polarity'])\n",
    "        print(\"=>[tested]\", d)\n",
    "        print(s.format(*precision_recall_fscore_support(ds.testing['polarity'] if d == 'all' else ds.testing_by_domain[d][\"polarity\"], percep.predict(testing), average=\"macro\")))"
   ]
  }
 ],
 "metadata": {
  "interpreter": {
   "hash": "e99c606221478606e184a054e6047426ce52f9cc3eb14d6318f1ef08b00da85e"
  },
  "kernelspec": {
   "display_name": "Python 3 (ipykernel)",
   "language": "python",
   "name": "python3"
  },
  "language_info": {
   "codemirror_mode": {
    "name": "ipython",
    "version": 3
   },
   "file_extension": ".py",
   "mimetype": "text/x-python",
   "name": "python",
   "nbconvert_exporter": "python",
   "pygments_lexer": "ipython3",
   "version": "3.9.7"
  },
  "orig_nbformat": 4
 },
 "nbformat": 4,
 "nbformat_minor": 2
}
